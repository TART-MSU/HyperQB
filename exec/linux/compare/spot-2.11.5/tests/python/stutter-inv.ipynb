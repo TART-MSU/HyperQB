{
 "cells": [
  {
   "cell_type": "code",
   "execution_count": 1,
   "metadata": {},
   "outputs": [],
   "source": [
    "import spot\n",
    "spot.setup(show_default='.bn')\n",
    "from IPython.display import display"
   ]
  },
  {
   "cell_type": "markdown",
   "metadata": {},
   "source": [
    "# Stutter-invariant languages\n",
    "\n",
    "A language $L$ is said to be _stutter-invariant_ iff $\\ell_0\\ldots\\ell_{i-1}\\ell_i\\ell_{i+1}\\ldots\\in L \\iff \\ell_0\\ldots\\ell_{i-1}\\ell_i\\ell_i\\ell_{i+1}\\ldots\\in L$, i.e., if duplicating a letter in a word or removing a duplicated letter does not change the membership of that word to $L$.  These languages are also called _stutter-insensitive_.   We use the adjective _sutter-sensitive_ to describe a language that is not stutter-invariant.   Of course we can extend this vocabulary to LTL formulas or automata that represent stutter-invariant languages.\n",
    "\n",
    "Stutter-invariant languages play an important role in model checking.  When verifying a stutter-invariant specification against a system, we know that we have some freedom in how we discretize the time in the model: as long as we do not hide changes of model variables that are observed by the specification, we can merge multiple steps of the model.  This, combined by careful analysis of actions of the model that are independent, is the basis for a set of techniques known as _partial-order reductions_ (POR) that postpone the visit of some successors in the model, because we know we can always visit them later."
   ]
  },
  {
   "cell_type": "markdown",
   "metadata": {},
   "source": [
    "## Stutter-invariant formulas\n",
    "\n",
    "When the specification is expressed as an LTL formula, a well known way to ensure it is _stutter-invariant_ is to forbid the use of the `X` operator.  Testing whether a formula is `X`-free can be done in constant time using the `is_syntactic_stutter_invariant()` method."
   ]
  },
  {
   "cell_type": "code",
   "execution_count": 2,
   "metadata": {},
   "outputs": [
    {
     "name": "stdout",
     "output_type": "stream",
     "text": [
      "True\n"
     ]
    }
   ],
   "source": [
    "f = spot.formula('a U b')\n",
    "print(f.is_syntactic_stutter_invariant())"
   ]
  },
  {
   "cell_type": "code",
   "execution_count": 3,
   "metadata": {},
   "outputs": [
    {
     "name": "stdout",
     "output_type": "stream",
     "text": [
      "False\n"
     ]
    }
   ],
   "source": [
    "f = spot.formula('a U Xb')\n",
    "print(f.is_syntactic_stutter_invariant())"
   ]
  },
  {
   "cell_type": "markdown",
   "metadata": {},
   "source": [
    "However some formula are syntactic-invariant despite their use of `X`.   Spot implements some [automaton-based check](https://www.lrde.epita.fr/~adl/dl/adl/michaud.15.spin.pdf) to detect stutter-invariance reliably and efficiently.  This can be tested with the `is_stutter_invariant()` function."
   ]
  },
  {
   "cell_type": "code",
   "execution_count": 4,
   "metadata": {},
   "outputs": [
    {
     "name": "stdout",
     "output_type": "stream",
     "text": [
      "False\n",
      "True\n"
     ]
    }
   ],
   "source": [
    "g = spot.formula('F(a & X(!a & Gb))')\n",
    "print(g.is_syntactic_stutter_invariant())\n",
    "print(spot.is_stutter_invariant(g))"
   ]
  },
  {
   "cell_type": "markdown",
   "metadata": {},
   "source": [
    "Of course this `is_stutter_invariant()` function first checks whether the formula is `X`-free before wasting time building automata, so if you want to detect stutter-invariant formulas in your model checker, this is the only function to use.  Also, if you hapen to already have an automaton `aut_g` for `g`, you should pass it as a second argument to avoid it being recomputed: `spot.is_stutter_invariant(g, aut_g)`."
   ]
  },
  {
   "cell_type": "markdown",
   "metadata": {},
   "source": [
    "It is also known that any stutter-invariant LTL formula can be converted to an `X`-free LTL formula.  Several proofs of that exist.  Spot implements the rewriting of [K. Etessami](http://homepages.inf.ed.ac.uk/kousha/note_on_stut_tl_lpi.ps) under the name `remove_x()`.  Note that the output of this function is only equivalent to its input if the latter is stutter-invariant."
   ]
  },
  {
   "cell_type": "code",
   "execution_count": 5,
   "metadata": {},
   "outputs": [
    {
     "data": {
      "text/latex": [
       "$\\mathsf{F} (a \\land ((a \\land (a \\mathbin{\\mathsf{U}} (\\lnot a \\land \\mathsf{G} b)) \\land ((\\lnot b \\mathbin{\\mathsf{U}} \\lnot a) \\lor (b \\mathbin{\\mathsf{U}} \\lnot a))) \\lor (\\lnot a \\land (\\lnot a \\mathbin{\\mathsf{U}} (a \\land \\lnot a \\land \\mathsf{G} b)) \\land ((\\lnot b \\mathbin{\\mathsf{U}} a) \\lor (b \\mathbin{\\mathsf{U}} a))) \\lor (b \\land (b \\mathbin{\\mathsf{U}} (\\lnot a \\land \\lnot b \\land \\mathsf{G} b)) \\land ((\\lnot a \\mathbin{\\mathsf{U}} \\lnot b) \\lor (a \\mathbin{\\mathsf{U}} \\lnot b))) \\lor (\\lnot b \\land (\\lnot b \\mathbin{\\mathsf{U}} (\\lnot a \\land b \\land \\mathsf{G} b)) \\land ((\\lnot a \\mathbin{\\mathsf{U}} b) \\lor (a \\mathbin{\\mathsf{U}} b))) \\lor (\\lnot a \\land \\mathsf{G} b \\land (\\mathsf{G} \\lnot a \\lor \\mathsf{G} a) \\land (\\mathsf{G} b \\lor \\mathsf{G} \\lnot b))))$"
      ],
      "text/plain": [
       "spot.formula(\"F(a & ((a & (a U (!a & Gb)) & ((!b U !a) | (b U !a))) | (!a & (!a U (a & !a & Gb)) & ((!b U a) | (b U a))) | (b & (b U (!a & !b & Gb)) & ((!a U !b) | (a U !b))) | (!b & (!b U (!a & b & Gb)) & ((!a U b) | (a U b))) | (!a & Gb & (G!a | Ga) & (Gb | G!b))))\")"
      ]
     },
     "execution_count": 5,
     "metadata": {},
     "output_type": "execute_result"
    }
   ],
   "source": [
    "spot.remove_x(g)"
   ]
  },
  {
   "cell_type": "markdown",
   "metadata": {},
   "source": [
    "## Stutter-invariant automata"
   ]
  },
  {
   "cell_type": "markdown",
   "metadata": {},
   "source": [
    "Similarly to formulas, automata use a few bits to store some known properties about themselves, like whether they represent a stutter-invariant language.  This property can be checked with the `prop_stutter_invariant()` method, but that returns a `trival` instance (i.e., yes, no, or maybe).  Some algorithms will update that property whenever that is cheap or expliclitely asked for.   For instance `spot.translate()` only sets the property if the translated formula is `X`-free."
   ]
  },
  {
   "cell_type": "code",
   "execution_count": 6,
   "metadata": {},
   "outputs": [
    {
     "name": "stdout",
     "output_type": "stream",
     "text": [
      "maybe\n"
     ]
    }
   ],
   "source": [
    "aut = spot.translate(g)\n",
    "print(aut.prop_stutter_invariant())"
   ]
  },
  {
   "cell_type": "markdown",
   "metadata": {},
   "source": [
    "As suggested above, we can call `is_stutter_invariant()` by passing a formula and its automaton, to save on one translation.  A second translation is still needed to complement the automaton."
   ]
  },
  {
   "cell_type": "code",
   "execution_count": 7,
   "metadata": {},
   "outputs": [
    {
     "name": "stdout",
     "output_type": "stream",
     "text": [
      "True\n"
     ]
    }
   ],
   "source": [
    "print(spot.is_stutter_invariant(g, aut))"
   ]
  },
  {
   "cell_type": "markdown",
   "metadata": {},
   "source": [
    "Note that `prop_stutter_invariant()` was updated as a side-effect so that any futher call to `is_stutter_invariant()` with this automaton will be instantaneous."
   ]
  },
  {
   "cell_type": "code",
   "execution_count": 8,
   "metadata": {},
   "outputs": [
    {
     "name": "stdout",
     "output_type": "stream",
     "text": [
      "yes\n"
     ]
    }
   ],
   "source": [
    "print(aut.prop_stutter_invariant())"
   ]
  },
  {
   "cell_type": "markdown",
   "metadata": {},
   "source": [
    "You have to be aware of this property being set in your back because if while playing with `is_stutter_invariant()` you the incorrect formula for an automaton by mistake, the automaton will have its property set incorrectly, and running `is_stutter_inariant()` with the correct formula will simply return the cached property.\n",
    "\n",
    "In doubt, you can always reset the property as follows:"
   ]
  },
  {
   "cell_type": "code",
   "execution_count": 9,
   "metadata": {},
   "outputs": [
    {
     "name": "stdout",
     "output_type": "stream",
     "text": [
      "maybe\n"
     ]
    }
   ],
   "source": [
    "aut.prop_stutter_invariant(spot.trival_maybe())\n",
    "print(aut.prop_stutter_invariant())"
   ]
  },
  {
   "cell_type": "markdown",
   "metadata": {},
   "source": [
    "In case you have an automaton for which you do not have formula, you can also use `is_stutter_invariant()` by passing this automaton as the first argument.  In that case a negated automaton will be constructed by determinization.  If you do happen to have a negated automaton handy, you can pass it as a second argument to avoid that."
   ]
  },
  {
   "cell_type": "code",
   "execution_count": 10,
   "metadata": {},
   "outputs": [
    {
     "data": {
      "image/svg+xml": [
       "<?xml version=\"1.0\" encoding=\"UTF-8\" standalone=\"no\"?>\n",
       "<!DOCTYPE svg PUBLIC \"-//W3C//DTD SVG 1.1//EN\"\n",
       " \"http://www.w3.org/Graphics/SVG/1.1/DTD/svg11.dtd\">\n",
       "<!-- Generated by graphviz version 2.43.0 (0)\n",
       " -->\n",
       "<!-- Pages: 1 -->\n",
       "<svg width=\"163pt\" height=\"84pt\"\n",
       " viewBox=\"0.00 0.00 163.00 84.35\" xmlns=\"http://www.w3.org/2000/svg\" xmlns:xlink=\"http://www.w3.org/1999/xlink\">\n",
       "<g id=\"graph0\" class=\"graph\" transform=\"scale(1.0 1.0) rotate(0) translate(4 80.35)\">\n",
       "<polygon fill=\"white\" stroke=\"transparent\" points=\"-4,4 -4,-80.35 159,-80.35 159,4 -4,4\"/>\n",
       "<text text-anchor=\"start\" x=\"74.5\" y=\"-61.15\" font-family=\"Lato\" font-size=\"14.00\">t</text>\n",
       "<text text-anchor=\"start\" x=\"66.5\" y=\"-46.15\" font-family=\"Lato\" font-size=\"14.00\">[all]</text>\n",
       "<!-- I -->\n",
       "<!-- 0 -->\n",
       "<g id=\"node2\" class=\"node\">\n",
       "<title>0</title>\n",
       "<ellipse fill=\"#ffffaa\" stroke=\"black\" cx=\"56\" cy=\"-20.35\" rx=\"18\" ry=\"18\"/>\n",
       "<text text-anchor=\"middle\" x=\"56\" y=\"-16.65\" font-family=\"Lato\" font-size=\"14.00\">0</text>\n",
       "</g>\n",
       "<!-- I&#45;&gt;0 -->\n",
       "<g id=\"edge1\" class=\"edge\">\n",
       "<title>I&#45;&gt;0</title>\n",
       "<path fill=\"none\" stroke=\"black\" d=\"M1.15,-20.35C2.79,-20.35 17.15,-20.35 30.63,-20.35\"/>\n",
       "<polygon fill=\"black\" stroke=\"black\" points=\"37.94,-20.35 30.94,-23.5 34.44,-20.35 30.94,-20.35 30.94,-20.35 30.94,-20.35 34.44,-20.35 30.94,-17.2 37.94,-20.35 37.94,-20.35\"/>\n",
       "</g>\n",
       "<!-- 1 -->\n",
       "<g id=\"node3\" class=\"node\">\n",
       "<title>1</title>\n",
       "<ellipse fill=\"#ffffaa\" stroke=\"black\" cx=\"137\" cy=\"-20.35\" rx=\"18\" ry=\"18\"/>\n",
       "<text text-anchor=\"middle\" x=\"137\" y=\"-16.65\" font-family=\"Lato\" font-size=\"14.00\">1</text>\n",
       "</g>\n",
       "<!-- 0&#45;&gt;1 -->\n",
       "<g id=\"edge2\" class=\"edge\">\n",
       "<title>0&#45;&gt;1</title>\n",
       "<path fill=\"none\" stroke=\"black\" d=\"M74.14,-20.35C85.12,-20.35 99.52,-20.35 111.67,-20.35\"/>\n",
       "<polygon fill=\"black\" stroke=\"black\" points=\"118.89,-20.35 111.89,-23.5 115.39,-20.35 111.89,-20.35 111.89,-20.35 111.89,-20.35 115.39,-20.35 111.89,-17.2 118.89,-20.35 118.89,-20.35\"/>\n",
       "<text text-anchor=\"start\" x=\"93\" y=\"-24.15\" font-family=\"Lato\" font-size=\"14.00\">a</text>\n",
       "</g>\n",
       "<!-- 1&#45;&gt;0 -->\n",
       "<g id=\"edge3\" class=\"edge\">\n",
       "<title>1&#45;&gt;0</title>\n",
       "<path fill=\"none\" stroke=\"black\" d=\"M122.52,-9.39C114.01,-3.78 102.65,1.35 92,-1.35 87.14,-2.59 82.22,-4.65 77.67,-6.97\"/>\n",
       "<polygon fill=\"black\" stroke=\"black\" points=\"71.31,-10.49 75.91,-4.34 74.37,-8.79 77.44,-7.1 77.44,-7.1 77.44,-7.1 74.37,-8.79 78.96,-9.85 71.31,-10.49 71.31,-10.49\"/>\n",
       "<text text-anchor=\"middle\" x=\"96.5\" y=\"-5.15\" font-family=\"Lato\" font-size=\"14.00\">1</text>\n",
       "</g>\n",
       "</g>\n",
       "</svg>\n"
      ],
      "text/plain": [
       "<spot.twa_graph; proxy of <Swig Object of type 'std::shared_ptr< spot::twa_graph > *' at 0x7faad816be40> >"
      ]
     },
     "metadata": {},
     "output_type": "display_data"
    },
    {
     "name": "stdout",
     "output_type": "stream",
     "text": [
      "False\n"
     ]
    }
   ],
   "source": [
    "a1 = spot.automaton('''HOA: v1 \n",
    "AP: 1 \"a\" \n",
    "States: 2 \n",
    "Start: 0 \n",
    "Acceptance: 0 t\n",
    "--BODY-- \n",
    "State: 0 [0] 1 \n",
    "State: 1 [t] 0 \n",
    "--END--''')\n",
    "display(a1)\n",
    "print(spot.is_stutter_invariant(a1))"
   ]
  },
  {
   "cell_type": "markdown",
   "metadata": {},
   "source": [
    "## Explaining why a formula is not sutter-invariant"
   ]
  },
  {
   "cell_type": "markdown",
   "metadata": {},
   "source": [
    "As explained in our [Spin'15 paper](https://www.lrde.epita.fr/~adl/dl/adl/michaud.15.spin.pdf) the sutter-invariant checks are implemented using simple operators suchs as `spot.closure(aut)`, that augment the language of L by adding words that can be obtained by removing duplicated letters, and `spot.sl(aut)` or `spot.sl2(aut)` that both augment the language that L by adding words that can be obtained by duplicating letters.  The default `is_stutter_invariant()` function is implemented as `spot.product(spot.closure(aut), spot.closure(neg_aut)).is_empty()`, but that is just one possible implementation selected because it was more efficient.\n",
    "\n",
    "Using these bricks, we can modify the original algorithm so it uses a counterexample to explain why a formula is stutter-sensitive."
   ]
  },
  {
   "cell_type": "code",
   "execution_count": 11,
   "metadata": {},
   "outputs": [],
   "source": [
    "def explain_stut(f):\n",
    "    f = spot.formula(f)\n",
    "    pos = spot.translate(f)\n",
    "    neg = spot.translate(spot.formula.Not(f))\n",
    "    word = spot.product(spot.closure(pos), spot.closure(neg)).accepting_word()\n",
    "    if word is None:\n",
    "        print(f, \"is stutter invariant\")\n",
    "        return\n",
    "    word.simplify()\n",
    "    word.use_all_aps(pos.ap_vars())\n",
    "    waut = word.as_automaton()\n",
    "    if waut.intersects(pos):\n",
    "        acc, rej, aut = \"accepted\", \"rejected\", neg\n",
    "    else:\n",
    "        acc, rej, aut = \"rejected\", \"accepted\", pos\n",
    "    word2 = spot.sl2(waut).intersecting_word(aut)\n",
    "    word2.simplify()\n",
    "    print(\"\"\"{} is {} by {}\n",
    "  but if we stutter some of its letters, we get\n",
    "{} which is {} by {}\"\"\".format(word, acc, f, word2, rej, f))"
   ]
  },
  {
   "cell_type": "code",
   "execution_count": 12,
   "metadata": {},
   "outputs": [
    {
     "name": "stdout",
     "output_type": "stream",
     "text": [
      "cycle{!a & !b; a & b} is rejected by GF(a & Xb)\n",
      "  but if we stutter some of its letters, we get\n",
      "cycle{!a & !b; a & b; a & b} which is accepted by GF(a & Xb)\n"
     ]
    }
   ],
   "source": [
    "explain_stut('GF(a & Xb)')"
   ]
  },
  {
   "cell_type": "markdown",
   "metadata": {},
   "source": [
    "Note that a variant of the above explanation procedure is already integerated in our [on-line LTL translator tool](https://spot.lrde.epita.fr/app/) (use the <i>study</i> tab)."
   ]
  },
  {
   "cell_type": "markdown",
   "metadata": {},
   "source": [
    "## Detecting stutter-invariant states\n",
    "\n",
    "Even if the language of an automaton is not sutter invariant, some of its states may recognize a stutter-invariant language.  (We assume the language of a state is the language the automaton would have when starting from this state.)"
   ]
  },
  {
   "cell_type": "markdown",
   "metadata": {},
   "source": [
    "### First example\n",
    "\n",
    "For instance let us build a disjunction of a stutter-invariant formula and a stutter-sensitive one:"
   ]
  },
  {
   "cell_type": "code",
   "execution_count": 13,
   "metadata": {},
   "outputs": [
    {
     "name": "stdout",
     "output_type": "stream",
     "text": [
      "True\n",
      "False\n",
      "False\n"
     ]
    }
   ],
   "source": [
    "f1 = spot.formula('F(a & X!a & XF(b & X!b & Ga))')\n",
    "f2 = spot.formula('F(a & Xa & XXa & G!b)')\n",
    "f = spot.formula.Or([f1, f2])\n",
    "\n",
    "print(spot.is_stutter_invariant(f1))\n",
    "print(spot.is_stutter_invariant(f2))\n",
    "print(spot.is_stutter_invariant(f))"
   ]
  },
  {
   "cell_type": "code",
   "execution_count": 14,
   "metadata": {},
   "outputs": [
    {
     "data": {
      "image/svg+xml": [
       "<?xml version=\"1.0\" encoding=\"UTF-8\" standalone=\"no\"?>\n",
       "<!DOCTYPE svg PUBLIC \"-//W3C//DTD SVG 1.1//EN\"\n",
       " \"http://www.w3.org/Graphics/SVG/1.1/DTD/svg11.dtd\">\n",
       "<!-- Generated by graphviz version 2.43.0 (0)\n",
       " -->\n",
       "<!-- Pages: 1 -->\n",
       "<svg width=\"514pt\" height=\"203pt\"\n",
       " viewBox=\"0.00 0.00 514.00 203.00\" xmlns=\"http://www.w3.org/2000/svg\" xmlns:xlink=\"http://www.w3.org/1999/xlink\">\n",
       "<g id=\"graph0\" class=\"graph\" transform=\"scale(1.0 1.0) rotate(0) translate(4 199)\">\n",
       "<polygon fill=\"white\" stroke=\"transparent\" points=\"-4,4 -4,-199 510,-199 510,4 -4,4\"/>\n",
       "<text text-anchor=\"start\" x=\"232.5\" y=\"-180.8\" font-family=\"Lato\" font-size=\"14.00\">Inf(</text>\n",
       "<text text-anchor=\"start\" x=\"253.5\" y=\"-180.8\" font-family=\"Lato\" font-size=\"14.00\" fill=\"#1f78b4\">⓿</text>\n",
       "<text text-anchor=\"start\" x=\"269.5\" y=\"-180.8\" font-family=\"Lato\" font-size=\"14.00\">)</text>\n",
       "<text text-anchor=\"start\" x=\"231.5\" y=\"-166.8\" font-family=\"Lato\" font-size=\"14.00\">[Büchi]</text>\n",
       "<!-- I -->\n",
       "<!-- 0 -->\n",
       "<g id=\"node2\" class=\"node\">\n",
       "<title>0</title>\n",
       "<path fill=\"#ffffaa\" stroke=\"black\" d=\"M62,-89C62,-89 50,-89 50,-89 44,-89 38,-83 38,-77 38,-77 38,-65 38,-65 38,-59 44,-53 50,-53 50,-53 62,-53 62,-53 68,-53 74,-59 74,-65 74,-65 74,-77 74,-77 74,-83 68,-89 62,-89\"/>\n",
       "<text text-anchor=\"middle\" x=\"56\" y=\"-67.3\" font-family=\"Lato\" font-size=\"14.00\">0</text>\n",
       "</g>\n",
       "<!-- I&#45;&gt;0 -->\n",
       "<g id=\"edge1\" class=\"edge\">\n",
       "<title>I&#45;&gt;0</title>\n",
       "<path fill=\"none\" stroke=\"black\" d=\"M1.15,-71C2.79,-71 17.15,-71 30.63,-71\"/>\n",
       "<polygon fill=\"black\" stroke=\"black\" points=\"37.94,-71 30.94,-74.15 34.44,-71 30.94,-71 30.94,-71 30.94,-71 34.44,-71 30.94,-67.85 37.94,-71 37.94,-71\"/>\n",
       "</g>\n",
       "<!-- 0&#45;&gt;0 -->\n",
       "<g id=\"edge2\" class=\"edge\">\n",
       "<title>0&#45;&gt;0</title>\n",
       "<path fill=\"none\" stroke=\"black\" d=\"M49.49,-89.15C48.49,-98.54 50.66,-107 56,-107 59.92,-107 62.14,-102.44 62.64,-96.3\"/>\n",
       "<polygon fill=\"black\" stroke=\"black\" points=\"62.51,-89.15 65.79,-96.1 62.57,-92.65 62.64,-96.15 62.64,-96.15 62.64,-96.15 62.57,-92.65 59.49,-96.21 62.51,-89.15 62.51,-89.15\"/>\n",
       "<text text-anchor=\"start\" x=\"51.5\" y=\"-110.8\" font-family=\"Lato\" font-size=\"14.00\">1</text>\n",
       "</g>\n",
       "<!-- 1 -->\n",
       "<g id=\"node3\" class=\"node\">\n",
       "<title>1</title>\n",
       "<path fill=\"#ffffaa\" stroke=\"black\" d=\"M170,-116C170,-116 158,-116 158,-116 152,-116 146,-110 146,-104 146,-104 146,-92 146,-92 146,-86 152,-80 158,-80 158,-80 170,-80 170,-80 176,-80 182,-86 182,-92 182,-92 182,-104 182,-104 182,-110 176,-116 170,-116\"/>\n",
       "<text text-anchor=\"start\" x=\"159.5\" y=\"-94.3\" font-family=\"Lato\" font-size=\"14.00\">1</text>\n",
       "</g>\n",
       "<!-- 0&#45;&gt;1 -->\n",
       "<g id=\"edge3\" class=\"edge\">\n",
       "<title>0&#45;&gt;1</title>\n",
       "<path fill=\"none\" stroke=\"black\" d=\"M74.03,-75.34C91.54,-79.8 118.98,-86.79 138.75,-91.82\"/>\n",
       "<polygon fill=\"black\" stroke=\"black\" points=\"145.66,-93.58 138.1,-94.91 142.27,-92.72 138.88,-91.86 138.88,-91.86 138.88,-91.86 142.27,-92.72 139.65,-88.8 145.66,-93.58 145.66,-93.58\"/>\n",
       "<text text-anchor=\"start\" x=\"106.5\" y=\"-92.8\" font-family=\"Lato\" font-size=\"14.00\">a</text>\n",
       "</g>\n",
       "<!-- 2 -->\n",
       "<g id=\"node4\" class=\"node\">\n",
       "<title>2</title>\n",
       "<path fill=\"#ffffaa\" stroke=\"black\" d=\"M170,-62C170,-62 158,-62 158,-62 152,-62 146,-56 146,-50 146,-50 146,-38 146,-38 146,-32 152,-26 158,-26 158,-26 170,-26 170,-26 176,-26 182,-32 182,-38 182,-38 182,-50 182,-50 182,-56 176,-62 170,-62\"/>\n",
       "<text text-anchor=\"middle\" x=\"164\" y=\"-40.3\" font-family=\"Lato\" font-size=\"14.00\">2</text>\n",
       "</g>\n",
       "<!-- 0&#45;&gt;2 -->\n",
       "<g id=\"edge4\" class=\"edge\">\n",
       "<title>0&#45;&gt;2</title>\n",
       "<path fill=\"none\" stroke=\"black\" d=\"M74.09,-66.59C79.78,-65.13 86.16,-63.49 92,-62 107.63,-58.01 125.21,-53.55 138.97,-50.07\"/>\n",
       "<polygon fill=\"black\" stroke=\"black\" points=\"145.78,-48.35 139.77,-53.12 142.39,-49.21 138.99,-50.06 138.99,-50.06 138.99,-50.06 142.39,-49.21 138.22,-47.01 145.78,-48.35 145.78,-48.35\"/>\n",
       "<text text-anchor=\"start\" x=\"92\" y=\"-65.8\" font-family=\"Lato\" font-size=\"14.00\">a &amp; !b</text>\n",
       "</g>\n",
       "<!-- 3 -->\n",
       "<g id=\"node5\" class=\"node\">\n",
       "<title>3</title>\n",
       "<path fill=\"#ffffaa\" stroke=\"black\" d=\"M278,-120C278,-120 266,-120 266,-120 260,-120 254,-114 254,-108 254,-108 254,-96 254,-96 254,-90 260,-84 266,-84 266,-84 278,-84 278,-84 284,-84 290,-90 290,-96 290,-96 290,-108 290,-108 290,-114 284,-120 278,-120\"/>\n",
       "<text text-anchor=\"middle\" x=\"272\" y=\"-98.3\" font-family=\"Lato\" font-size=\"14.00\">3</text>\n",
       "</g>\n",
       "<!-- 1&#45;&gt;3 -->\n",
       "<g id=\"edge5\" class=\"edge\">\n",
       "<title>1&#45;&gt;3</title>\n",
       "<path fill=\"none\" stroke=\"black\" d=\"M182.03,-98.64C199.47,-99.3 226.74,-100.33 246.49,-101.08\"/>\n",
       "<polygon fill=\"black\" stroke=\"black\" points=\"253.66,-101.35 246.55,-104.23 250.16,-101.21 246.66,-101.08 246.66,-101.08 246.66,-101.08 250.16,-101.21 246.78,-97.93 253.66,-101.35 253.66,-101.35\"/>\n",
       "<text text-anchor=\"start\" x=\"212.5\" y=\"-104.8\" font-family=\"Lato\" font-size=\"14.00\">!a</text>\n",
       "</g>\n",
       "<!-- 5 -->\n",
       "<g id=\"node6\" class=\"node\">\n",
       "<title>5</title>\n",
       "<path fill=\"#ffffaa\" stroke=\"black\" d=\"M278,-62C278,-62 266,-62 266,-62 260,-62 254,-56 254,-50 254,-50 254,-38 254,-38 254,-32 260,-26 266,-26 266,-26 278,-26 278,-26 284,-26 290,-32 290,-38 290,-38 290,-50 290,-50 290,-56 284,-62 278,-62\"/>\n",
       "<text text-anchor=\"middle\" x=\"272\" y=\"-40.3\" font-family=\"Lato\" font-size=\"14.00\">5</text>\n",
       "</g>\n",
       "<!-- 2&#45;&gt;5 -->\n",
       "<g id=\"edge6\" class=\"edge\">\n",
       "<title>2&#45;&gt;5</title>\n",
       "<path fill=\"none\" stroke=\"black\" d=\"M182.03,-44C199.47,-44 226.74,-44 246.49,-44\"/>\n",
       "<polygon fill=\"black\" stroke=\"black\" points=\"253.66,-44 246.66,-47.15 250.16,-44 246.66,-44 246.66,-44 246.66,-44 250.16,-44 246.66,-40.85 253.66,-44 253.66,-44\"/>\n",
       "<text text-anchor=\"start\" x=\"200\" y=\"-47.8\" font-family=\"Lato\" font-size=\"14.00\">a &amp; !b</text>\n",
       "</g>\n",
       "<!-- 3&#45;&gt;3 -->\n",
       "<g id=\"edge7\" class=\"edge\">\n",
       "<title>3&#45;&gt;3</title>\n",
       "<path fill=\"none\" stroke=\"black\" d=\"M262.23,-120.15C260.73,-129.54 263.98,-138 272,-138 277.89,-138 281.21,-133.44 281.96,-127.3\"/>\n",
       "<polygon fill=\"black\" stroke=\"black\" points=\"281.77,-120.15 285.1,-127.07 281.86,-123.65 281.96,-127.15 281.96,-127.15 281.96,-127.15 281.86,-123.65 278.81,-127.23 281.77,-120.15 281.77,-120.15\"/>\n",
       "<text text-anchor=\"start\" x=\"267.5\" y=\"-141.8\" font-family=\"Lato\" font-size=\"14.00\">1</text>\n",
       "</g>\n",
       "<!-- 4 -->\n",
       "<g id=\"node7\" class=\"node\">\n",
       "<title>4</title>\n",
       "<path fill=\"#ffffaa\" stroke=\"black\" d=\"M386,-125C386,-125 374,-125 374,-125 368,-125 362,-119 362,-113 362,-113 362,-101 362,-101 362,-95 368,-89 374,-89 374,-89 386,-89 386,-89 392,-89 398,-95 398,-101 398,-101 398,-113 398,-113 398,-119 392,-125 386,-125\"/>\n",
       "<text text-anchor=\"middle\" x=\"380\" y=\"-103.3\" font-family=\"Lato\" font-size=\"14.00\">4</text>\n",
       "</g>\n",
       "<!-- 3&#45;&gt;4 -->\n",
       "<g id=\"edge8\" class=\"edge\">\n",
       "<title>3&#45;&gt;4</title>\n",
       "<path fill=\"none\" stroke=\"black\" d=\"M290.03,-102.8C307.47,-103.63 334.74,-104.91 354.49,-105.84\"/>\n",
       "<polygon fill=\"black\" stroke=\"black\" points=\"361.66,-106.18 354.52,-109 358.16,-106.02 354.67,-105.85 354.67,-105.85 354.67,-105.85 358.16,-106.02 354.82,-102.71 361.66,-106.18 361.66,-106.18\"/>\n",
       "<text text-anchor=\"start\" x=\"310\" y=\"-109.8\" font-family=\"Lato\" font-size=\"14.00\">a &amp; b</text>\n",
       "</g>\n",
       "<!-- 6 -->\n",
       "<g id=\"node9\" class=\"node\">\n",
       "<title>6</title>\n",
       "<path fill=\"#ffffaa\" stroke=\"black\" d=\"M386,-38C386,-38 374,-38 374,-38 368,-38 362,-32 362,-26 362,-26 362,-12 362,-12 362,-6 368,0 374,0 374,0 386,0 386,0 392,0 398,-6 398,-12 398,-12 398,-26 398,-26 398,-32 392,-38 386,-38\"/>\n",
       "<text text-anchor=\"start\" x=\"375.5\" y=\"-22.8\" font-family=\"Lato\" font-size=\"14.00\">6</text>\n",
       "<text text-anchor=\"start\" x=\"372\" y=\"-7.8\" font-family=\"Lato\" font-size=\"14.00\" fill=\"#1f78b4\">⓿</text>\n",
       "</g>\n",
       "<!-- 5&#45;&gt;6 -->\n",
       "<g id=\"edge10\" class=\"edge\">\n",
       "<title>5&#45;&gt;6</title>\n",
       "<path fill=\"none\" stroke=\"black\" d=\"M290.03,-39.98C307.54,-35.85 334.98,-29.38 354.75,-24.72\"/>\n",
       "<polygon fill=\"black\" stroke=\"black\" points=\"361.66,-23.09 355.57,-27.76 358.25,-23.89 354.85,-24.7 354.85,-24.7 354.85,-24.7 358.25,-23.89 354.12,-21.63 361.66,-23.09 361.66,-23.09\"/>\n",
       "<text text-anchor=\"start\" x=\"308\" y=\"-39.8\" font-family=\"Lato\" font-size=\"14.00\">a &amp; !b</text>\n",
       "</g>\n",
       "<!-- 7 -->\n",
       "<g id=\"node8\" class=\"node\">\n",
       "<title>7</title>\n",
       "<path fill=\"#ffffaa\" stroke=\"black\" d=\"M494,-126C494,-126 482,-126 482,-126 476,-126 470,-120 470,-114 470,-114 470,-100 470,-100 470,-94 476,-88 482,-88 482,-88 494,-88 494,-88 500,-88 506,-94 506,-100 506,-100 506,-114 506,-114 506,-120 500,-126 494,-126\"/>\n",
       "<text text-anchor=\"start\" x=\"483.5\" y=\"-110.8\" font-family=\"Lato\" font-size=\"14.00\">7</text>\n",
       "<text text-anchor=\"start\" x=\"480\" y=\"-95.8\" font-family=\"Lato\" font-size=\"14.00\" fill=\"#1f78b4\">⓿</text>\n",
       "</g>\n",
       "<!-- 4&#45;&gt;7 -->\n",
       "<g id=\"edge9\" class=\"edge\">\n",
       "<title>4&#45;&gt;7</title>\n",
       "<path fill=\"none\" stroke=\"black\" d=\"M398.03,-107C415.47,-107 442.74,-107 462.49,-107\"/>\n",
       "<polygon fill=\"black\" stroke=\"black\" points=\"469.66,-107 462.66,-110.15 466.16,-107 462.66,-107 462.66,-107 462.66,-107 466.16,-107 462.66,-103.85 469.66,-107 469.66,-107\"/>\n",
       "<text text-anchor=\"start\" x=\"416\" y=\"-110.8\" font-family=\"Lato\" font-size=\"14.00\">a &amp; !b</text>\n",
       "</g>\n",
       "<!-- 7&#45;&gt;7 -->\n",
       "<g id=\"edge12\" class=\"edge\">\n",
       "<title>7&#45;&gt;7</title>\n",
       "<path fill=\"none\" stroke=\"black\" d=\"M478.17,-126.04C476.81,-135.53 480.09,-144 488,-144 493.81,-144 497.12,-139.43 497.93,-133.25\"/>\n",
       "<polygon fill=\"black\" stroke=\"black\" points=\"497.83,-126.04 501.08,-132.99 497.88,-129.54 497.93,-133.04 497.93,-133.04 497.93,-133.04 497.88,-129.54 494.78,-133.08 497.83,-126.04 497.83,-126.04\"/>\n",
       "<text text-anchor=\"start\" x=\"484.5\" y=\"-147.8\" font-family=\"Lato\" font-size=\"14.00\">a</text>\n",
       "</g>\n",
       "<!-- 6&#45;&gt;6 -->\n",
       "<g id=\"edge11\" class=\"edge\">\n",
       "<title>6&#45;&gt;6</title>\n",
       "<path fill=\"none\" stroke=\"black\" d=\"M370.17,-38.04C368.81,-47.53 372.09,-56 380,-56 385.81,-56 389.12,-51.43 389.93,-45.25\"/>\n",
       "<polygon fill=\"black\" stroke=\"black\" points=\"389.83,-38.04 393.08,-44.99 389.88,-41.54 389.93,-45.04 389.93,-45.04 389.93,-45.04 389.88,-41.54 386.78,-45.08 389.83,-38.04 389.83,-38.04\"/>\n",
       "<text text-anchor=\"start\" x=\"374\" y=\"-59.8\" font-family=\"Lato\" font-size=\"14.00\">!b</text>\n",
       "</g>\n",
       "</g>\n",
       "</svg>\n"
      ],
      "text/plain": [
       "<spot.twa_graph; proxy of <Swig Object of type 'std::shared_ptr< spot::twa_graph > *' at 0x7faad816be70> >"
      ]
     },
     "metadata": {},
     "output_type": "display_data"
    }
   ],
   "source": [
    "pos = spot.translate(f)\n",
    "display(pos)"
   ]
  },
  {
   "cell_type": "markdown",
   "metadata": {},
   "source": [
    "While the automaton as a whole is stutter-sensitive, we can see that eventually we will enter a sub-automaton that is stutter-invariant.\n",
    "\n",
    "The `stutter_invariant_states()` function returns a Boolean vector indiced by the state number.  A state is marked as `True` if either its language is stutter-invariant, or if it can only be reached via a stutter-invariant state (see the second example later).  As always, the second argument, `f`, can be omitted (pass `None`) if the formula is unknown, or it can be replaced by a negated automaton if it is known. "
   ]
  },
  {
   "cell_type": "code",
   "execution_count": 15,
   "metadata": {},
   "outputs": [
    {
     "data": {
      "text/plain": [
       "(False, True, False, True, True, True, True, True)"
      ]
     },
     "execution_count": 15,
     "metadata": {},
     "output_type": "execute_result"
    }
   ],
   "source": [
    "spot.stutter_invariant_states(pos, f)"
   ]
  },
  {
   "cell_type": "markdown",
   "metadata": {},
   "source": [
    "For convenience, the `highligh_...()` version colors the stutter-invariant states of the automaton for display.\n",
    "(That 5 is the color number for red in Spot's hard-coded palette.)"
   ]
  },
  {
   "cell_type": "code",
   "execution_count": 16,
   "metadata": {},
   "outputs": [
    {
     "data": {
      "image/svg+xml": [
       "<?xml version=\"1.0\" encoding=\"UTF-8\" standalone=\"no\"?>\n",
       "<!DOCTYPE svg PUBLIC \"-//W3C//DTD SVG 1.1//EN\"\n",
       " \"http://www.w3.org/Graphics/SVG/1.1/DTD/svg11.dtd\">\n",
       "<!-- Generated by graphviz version 2.43.0 (0)\n",
       " -->\n",
       "<!-- Pages: 1 -->\n",
       "<svg width=\"514pt\" height=\"203pt\"\n",
       " viewBox=\"0.00 0.00 514.00 203.00\" xmlns=\"http://www.w3.org/2000/svg\" xmlns:xlink=\"http://www.w3.org/1999/xlink\">\n",
       "<g id=\"graph0\" class=\"graph\" transform=\"scale(1.0 1.0) rotate(0) translate(4 199)\">\n",
       "<polygon fill=\"white\" stroke=\"transparent\" points=\"-4,4 -4,-199 510,-199 510,4 -4,4\"/>\n",
       "<text text-anchor=\"start\" x=\"232.5\" y=\"-180.8\" font-family=\"Lato\" font-size=\"14.00\">Inf(</text>\n",
       "<text text-anchor=\"start\" x=\"253.5\" y=\"-180.8\" font-family=\"Lato\" font-size=\"14.00\" fill=\"#1f78b4\">⓿</text>\n",
       "<text text-anchor=\"start\" x=\"269.5\" y=\"-180.8\" font-family=\"Lato\" font-size=\"14.00\">)</text>\n",
       "<text text-anchor=\"start\" x=\"231.5\" y=\"-166.8\" font-family=\"Lato\" font-size=\"14.00\">[Büchi]</text>\n",
       "<!-- I -->\n",
       "<!-- 0 -->\n",
       "<g id=\"node2\" class=\"node\">\n",
       "<title>0</title>\n",
       "<path fill=\"#ffffaa\" stroke=\"black\" d=\"M62,-89C62,-89 50,-89 50,-89 44,-89 38,-83 38,-77 38,-77 38,-65 38,-65 38,-59 44,-53 50,-53 50,-53 62,-53 62,-53 68,-53 74,-59 74,-65 74,-65 74,-77 74,-77 74,-83 68,-89 62,-89\"/>\n",
       "<text text-anchor=\"middle\" x=\"56\" y=\"-67.3\" font-family=\"Lato\" font-size=\"14.00\">0</text>\n",
       "</g>\n",
       "<!-- I&#45;&gt;0 -->\n",
       "<g id=\"edge1\" class=\"edge\">\n",
       "<title>I&#45;&gt;0</title>\n",
       "<path fill=\"none\" stroke=\"black\" d=\"M1.15,-71C2.79,-71 17.15,-71 30.63,-71\"/>\n",
       "<polygon fill=\"black\" stroke=\"black\" points=\"37.94,-71 30.94,-74.15 34.44,-71 30.94,-71 30.94,-71 30.94,-71 34.44,-71 30.94,-67.85 37.94,-71 37.94,-71\"/>\n",
       "</g>\n",
       "<!-- 0&#45;&gt;0 -->\n",
       "<g id=\"edge2\" class=\"edge\">\n",
       "<title>0&#45;&gt;0</title>\n",
       "<path fill=\"none\" stroke=\"black\" d=\"M49.49,-89.15C48.49,-98.54 50.66,-107 56,-107 59.92,-107 62.14,-102.44 62.64,-96.3\"/>\n",
       "<polygon fill=\"black\" stroke=\"black\" points=\"62.51,-89.15 65.79,-96.1 62.57,-92.65 62.64,-96.15 62.64,-96.15 62.64,-96.15 62.57,-92.65 59.49,-96.21 62.51,-89.15 62.51,-89.15\"/>\n",
       "<text text-anchor=\"start\" x=\"51.5\" y=\"-110.8\" font-family=\"Lato\" font-size=\"14.00\">1</text>\n",
       "</g>\n",
       "<!-- 1 -->\n",
       "<g id=\"node3\" class=\"node\">\n",
       "<title>1</title>\n",
       "<path fill=\"#ffffaa\" stroke=\"#e31a1c\" stroke-width=\"2\" d=\"M170,-116C170,-116 158,-116 158,-116 152,-116 146,-110 146,-104 146,-104 146,-92 146,-92 146,-86 152,-80 158,-80 158,-80 170,-80 170,-80 176,-80 182,-86 182,-92 182,-92 182,-104 182,-104 182,-110 176,-116 170,-116\"/>\n",
       "<text text-anchor=\"start\" x=\"159.5\" y=\"-94.3\" font-family=\"Lato\" font-size=\"14.00\">1</text>\n",
       "</g>\n",
       "<!-- 0&#45;&gt;1 -->\n",
       "<g id=\"edge3\" class=\"edge\">\n",
       "<title>0&#45;&gt;1</title>\n",
       "<path fill=\"none\" stroke=\"black\" d=\"M74.03,-75.34C91.54,-79.8 118.98,-86.79 138.75,-91.82\"/>\n",
       "<polygon fill=\"black\" stroke=\"black\" points=\"145.66,-93.58 138.1,-94.91 142.27,-92.72 138.88,-91.86 138.88,-91.86 138.88,-91.86 142.27,-92.72 139.65,-88.8 145.66,-93.58 145.66,-93.58\"/>\n",
       "<text text-anchor=\"start\" x=\"106.5\" y=\"-92.8\" font-family=\"Lato\" font-size=\"14.00\">a</text>\n",
       "</g>\n",
       "<!-- 2 -->\n",
       "<g id=\"node4\" class=\"node\">\n",
       "<title>2</title>\n",
       "<path fill=\"#ffffaa\" stroke=\"black\" d=\"M170,-62C170,-62 158,-62 158,-62 152,-62 146,-56 146,-50 146,-50 146,-38 146,-38 146,-32 152,-26 158,-26 158,-26 170,-26 170,-26 176,-26 182,-32 182,-38 182,-38 182,-50 182,-50 182,-56 176,-62 170,-62\"/>\n",
       "<text text-anchor=\"middle\" x=\"164\" y=\"-40.3\" font-family=\"Lato\" font-size=\"14.00\">2</text>\n",
       "</g>\n",
       "<!-- 0&#45;&gt;2 -->\n",
       "<g id=\"edge4\" class=\"edge\">\n",
       "<title>0&#45;&gt;2</title>\n",
       "<path fill=\"none\" stroke=\"black\" d=\"M74.09,-66.59C79.78,-65.13 86.16,-63.49 92,-62 107.63,-58.01 125.21,-53.55 138.97,-50.07\"/>\n",
       "<polygon fill=\"black\" stroke=\"black\" points=\"145.78,-48.35 139.77,-53.12 142.39,-49.21 138.99,-50.06 138.99,-50.06 138.99,-50.06 142.39,-49.21 138.22,-47.01 145.78,-48.35 145.78,-48.35\"/>\n",
       "<text text-anchor=\"start\" x=\"92\" y=\"-65.8\" font-family=\"Lato\" font-size=\"14.00\">a &amp; !b</text>\n",
       "</g>\n",
       "<!-- 3 -->\n",
       "<g id=\"node5\" class=\"node\">\n",
       "<title>3</title>\n",
       "<path fill=\"#ffffaa\" stroke=\"#e31a1c\" stroke-width=\"2\" d=\"M278,-120C278,-120 266,-120 266,-120 260,-120 254,-114 254,-108 254,-108 254,-96 254,-96 254,-90 260,-84 266,-84 266,-84 278,-84 278,-84 284,-84 290,-90 290,-96 290,-96 290,-108 290,-108 290,-114 284,-120 278,-120\"/>\n",
       "<text text-anchor=\"middle\" x=\"272\" y=\"-98.3\" font-family=\"Lato\" font-size=\"14.00\">3</text>\n",
       "</g>\n",
       "<!-- 1&#45;&gt;3 -->\n",
       "<g id=\"edge5\" class=\"edge\">\n",
       "<title>1&#45;&gt;3</title>\n",
       "<path fill=\"none\" stroke=\"black\" d=\"M182.03,-98.64C199.47,-99.3 226.74,-100.33 246.49,-101.08\"/>\n",
       "<polygon fill=\"black\" stroke=\"black\" points=\"253.66,-101.35 246.55,-104.23 250.16,-101.21 246.66,-101.08 246.66,-101.08 246.66,-101.08 250.16,-101.21 246.78,-97.93 253.66,-101.35 253.66,-101.35\"/>\n",
       "<text text-anchor=\"start\" x=\"212.5\" y=\"-104.8\" font-family=\"Lato\" font-size=\"14.00\">!a</text>\n",
       "</g>\n",
       "<!-- 5 -->\n",
       "<g id=\"node6\" class=\"node\">\n",
       "<title>5</title>\n",
       "<path fill=\"#ffffaa\" stroke=\"#e31a1c\" stroke-width=\"2\" d=\"M278,-62C278,-62 266,-62 266,-62 260,-62 254,-56 254,-50 254,-50 254,-38 254,-38 254,-32 260,-26 266,-26 266,-26 278,-26 278,-26 284,-26 290,-32 290,-38 290,-38 290,-50 290,-50 290,-56 284,-62 278,-62\"/>\n",
       "<text text-anchor=\"middle\" x=\"272\" y=\"-40.3\" font-family=\"Lato\" font-size=\"14.00\">5</text>\n",
       "</g>\n",
       "<!-- 2&#45;&gt;5 -->\n",
       "<g id=\"edge6\" class=\"edge\">\n",
       "<title>2&#45;&gt;5</title>\n",
       "<path fill=\"none\" stroke=\"black\" d=\"M182.03,-44C199.47,-44 226.74,-44 246.49,-44\"/>\n",
       "<polygon fill=\"black\" stroke=\"black\" points=\"253.66,-44 246.66,-47.15 250.16,-44 246.66,-44 246.66,-44 246.66,-44 250.16,-44 246.66,-40.85 253.66,-44 253.66,-44\"/>\n",
       "<text text-anchor=\"start\" x=\"200\" y=\"-47.8\" font-family=\"Lato\" font-size=\"14.00\">a &amp; !b</text>\n",
       "</g>\n",
       "<!-- 3&#45;&gt;3 -->\n",
       "<g id=\"edge7\" class=\"edge\">\n",
       "<title>3&#45;&gt;3</title>\n",
       "<path fill=\"none\" stroke=\"black\" d=\"M262.23,-120.15C260.73,-129.54 263.98,-138 272,-138 277.89,-138 281.21,-133.44 281.96,-127.3\"/>\n",
       "<polygon fill=\"black\" stroke=\"black\" points=\"281.77,-120.15 285.1,-127.07 281.86,-123.65 281.96,-127.15 281.96,-127.15 281.96,-127.15 281.86,-123.65 278.81,-127.23 281.77,-120.15 281.77,-120.15\"/>\n",
       "<text text-anchor=\"start\" x=\"267.5\" y=\"-141.8\" font-family=\"Lato\" font-size=\"14.00\">1</text>\n",
       "</g>\n",
       "<!-- 4 -->\n",
       "<g id=\"node7\" class=\"node\">\n",
       "<title>4</title>\n",
       "<path fill=\"#ffffaa\" stroke=\"#e31a1c\" stroke-width=\"2\" d=\"M386,-125C386,-125 374,-125 374,-125 368,-125 362,-119 362,-113 362,-113 362,-101 362,-101 362,-95 368,-89 374,-89 374,-89 386,-89 386,-89 392,-89 398,-95 398,-101 398,-101 398,-113 398,-113 398,-119 392,-125 386,-125\"/>\n",
       "<text text-anchor=\"middle\" x=\"380\" y=\"-103.3\" font-family=\"Lato\" font-size=\"14.00\">4</text>\n",
       "</g>\n",
       "<!-- 3&#45;&gt;4 -->\n",
       "<g id=\"edge8\" class=\"edge\">\n",
       "<title>3&#45;&gt;4</title>\n",
       "<path fill=\"none\" stroke=\"black\" d=\"M290.03,-102.8C307.47,-103.63 334.74,-104.91 354.49,-105.84\"/>\n",
       "<polygon fill=\"black\" stroke=\"black\" points=\"361.66,-106.18 354.52,-109 358.16,-106.02 354.67,-105.85 354.67,-105.85 354.67,-105.85 358.16,-106.02 354.82,-102.71 361.66,-106.18 361.66,-106.18\"/>\n",
       "<text text-anchor=\"start\" x=\"310\" y=\"-109.8\" font-family=\"Lato\" font-size=\"14.00\">a &amp; b</text>\n",
       "</g>\n",
       "<!-- 6 -->\n",
       "<g id=\"node9\" class=\"node\">\n",
       "<title>6</title>\n",
       "<path fill=\"#ffffaa\" stroke=\"#e31a1c\" stroke-width=\"2\" d=\"M386,-38C386,-38 374,-38 374,-38 368,-38 362,-32 362,-26 362,-26 362,-12 362,-12 362,-6 368,0 374,0 374,0 386,0 386,0 392,0 398,-6 398,-12 398,-12 398,-26 398,-26 398,-32 392,-38 386,-38\"/>\n",
       "<text text-anchor=\"start\" x=\"375.5\" y=\"-22.8\" font-family=\"Lato\" font-size=\"14.00\">6</text>\n",
       "<text text-anchor=\"start\" x=\"372\" y=\"-7.8\" font-family=\"Lato\" font-size=\"14.00\" fill=\"#1f78b4\">⓿</text>\n",
       "</g>\n",
       "<!-- 5&#45;&gt;6 -->\n",
       "<g id=\"edge10\" class=\"edge\">\n",
       "<title>5&#45;&gt;6</title>\n",
       "<path fill=\"none\" stroke=\"black\" d=\"M290.03,-39.98C307.54,-35.85 334.98,-29.38 354.75,-24.72\"/>\n",
       "<polygon fill=\"black\" stroke=\"black\" points=\"361.66,-23.09 355.57,-27.76 358.25,-23.89 354.85,-24.7 354.85,-24.7 354.85,-24.7 358.25,-23.89 354.12,-21.63 361.66,-23.09 361.66,-23.09\"/>\n",
       "<text text-anchor=\"start\" x=\"308\" y=\"-39.8\" font-family=\"Lato\" font-size=\"14.00\">a &amp; !b</text>\n",
       "</g>\n",
       "<!-- 7 -->\n",
       "<g id=\"node8\" class=\"node\">\n",
       "<title>7</title>\n",
       "<path fill=\"#ffffaa\" stroke=\"#e31a1c\" stroke-width=\"2\" d=\"M494,-126C494,-126 482,-126 482,-126 476,-126 470,-120 470,-114 470,-114 470,-100 470,-100 470,-94 476,-88 482,-88 482,-88 494,-88 494,-88 500,-88 506,-94 506,-100 506,-100 506,-114 506,-114 506,-120 500,-126 494,-126\"/>\n",
       "<text text-anchor=\"start\" x=\"483.5\" y=\"-110.8\" font-family=\"Lato\" font-size=\"14.00\">7</text>\n",
       "<text text-anchor=\"start\" x=\"480\" y=\"-95.8\" font-family=\"Lato\" font-size=\"14.00\" fill=\"#1f78b4\">⓿</text>\n",
       "</g>\n",
       "<!-- 4&#45;&gt;7 -->\n",
       "<g id=\"edge9\" class=\"edge\">\n",
       "<title>4&#45;&gt;7</title>\n",
       "<path fill=\"none\" stroke=\"black\" d=\"M398.03,-107C415.47,-107 442.74,-107 462.49,-107\"/>\n",
       "<polygon fill=\"black\" stroke=\"black\" points=\"469.66,-107 462.66,-110.15 466.16,-107 462.66,-107 462.66,-107 462.66,-107 466.16,-107 462.66,-103.85 469.66,-107 469.66,-107\"/>\n",
       "<text text-anchor=\"start\" x=\"416\" y=\"-110.8\" font-family=\"Lato\" font-size=\"14.00\">a &amp; !b</text>\n",
       "</g>\n",
       "<!-- 7&#45;&gt;7 -->\n",
       "<g id=\"edge12\" class=\"edge\">\n",
       "<title>7&#45;&gt;7</title>\n",
       "<path fill=\"none\" stroke=\"black\" d=\"M478.17,-126.04C476.81,-135.53 480.09,-144 488,-144 493.81,-144 497.12,-139.43 497.93,-133.25\"/>\n",
       "<polygon fill=\"black\" stroke=\"black\" points=\"497.83,-126.04 501.08,-132.99 497.88,-129.54 497.93,-133.04 497.93,-133.04 497.93,-133.04 497.88,-129.54 494.78,-133.08 497.83,-126.04 497.83,-126.04\"/>\n",
       "<text text-anchor=\"start\" x=\"484.5\" y=\"-147.8\" font-family=\"Lato\" font-size=\"14.00\">a</text>\n",
       "</g>\n",
       "<!-- 6&#45;&gt;6 -->\n",
       "<g id=\"edge11\" class=\"edge\">\n",
       "<title>6&#45;&gt;6</title>\n",
       "<path fill=\"none\" stroke=\"black\" d=\"M370.17,-38.04C368.81,-47.53 372.09,-56 380,-56 385.81,-56 389.12,-51.43 389.93,-45.25\"/>\n",
       "<polygon fill=\"black\" stroke=\"black\" points=\"389.83,-38.04 393.08,-44.99 389.88,-41.54 389.93,-45.04 389.93,-45.04 389.93,-45.04 389.88,-41.54 386.78,-45.08 389.83,-38.04 389.83,-38.04\"/>\n",
       "<text text-anchor=\"start\" x=\"374\" y=\"-59.8\" font-family=\"Lato\" font-size=\"14.00\">!b</text>\n",
       "</g>\n",
       "</g>\n",
       "</svg>\n"
      ],
      "text/plain": [
       "<spot.twa_graph; proxy of <Swig Object of type 'std::shared_ptr< spot::twa_graph > *' at 0x7faad816be70> >"
      ]
     },
     "metadata": {},
     "output_type": "display_data"
    }
   ],
   "source": [
    "spot.highlight_stutter_invariant_states(pos, f, 5)\n",
    "display(pos)"
   ]
  },
  {
   "cell_type": "markdown",
   "metadata": {},
   "source": [
    "Such a procedure gives us a map of where POR can be enabled when model checking using this automaton."
   ]
  },
  {
   "cell_type": "markdown",
   "metadata": {},
   "source": [
    "### Second example"
   ]
  },
  {
   "cell_type": "markdown",
   "metadata": {},
   "source": [
    "This second example illustrates the fact that a state can be marked if it it not sutter-invariant but appear below a stutter-invariant state.  We build our example automaton as the disjuction of the following two stutter-sensitive formulas, whose union is equivalent to the sutter-invariant formula `GF!a`."
   ]
  },
  {
   "cell_type": "code",
   "execution_count": 17,
   "metadata": {},
   "outputs": [],
   "source": [
    "g1 = spot.formula('GF(a & Xa) & GF!a')\n",
    "g2 = spot.formula('!GF(a & Xa) & GF!a')\n",
    "g = spot.formula.Or([g1, g2])"
   ]
  },
  {
   "cell_type": "code",
   "execution_count": 18,
   "metadata": {},
   "outputs": [
    {
     "name": "stdout",
     "output_type": "stream",
     "text": [
      "False\n",
      "False\n",
      "True\n"
     ]
    }
   ],
   "source": [
    "print(spot.is_stutter_invariant(g1))\n",
    "print(spot.is_stutter_invariant(g2))\n",
    "print(spot.is_stutter_invariant(g))"
   ]
  },
  {
   "cell_type": "markdown",
   "metadata": {},
   "source": [
    "Here are the automata for `g1` and `g2`, note that none of the states are stutter-invariant."
   ]
  },
  {
   "cell_type": "code",
   "execution_count": 19,
   "metadata": {},
   "outputs": [
    {
     "data": {
      "image/svg+xml": [
       "<?xml version=\"1.0\" encoding=\"UTF-8\" standalone=\"no\"?>\n",
       "<!DOCTYPE svg PUBLIC \"-//W3C//DTD SVG 1.1//EN\"\n",
       " \"http://www.w3.org/Graphics/SVG/1.1/DTD/svg11.dtd\">\n",
       "<!-- Generated by graphviz version 2.43.0 (0)\n",
       " -->\n",
       "<!-- Title: G(F(a &amp; Xa) &amp; F!a) Pages: 1 -->\n",
       "<svg width=\"170pt\" height=\"145pt\"\n",
       " viewBox=\"0.00 0.00 170.00 144.75\" xmlns=\"http://www.w3.org/2000/svg\" xmlns:xlink=\"http://www.w3.org/1999/xlink\">\n",
       "<g id=\"graph0\" class=\"graph\" transform=\"scale(1.0 1.0) rotate(0) translate(4 140.75)\">\n",
       "<title>G(F(a &amp; Xa) &amp; F!a)</title>\n",
       "<polygon fill=\"white\" stroke=\"transparent\" points=\"-4,4 -4,-140.75 166,-140.75 166,4 -4,4\"/>\n",
       "<text text-anchor=\"start\" x=\"26\" y=\"-122.55\" font-family=\"Lato\" font-size=\"14.00\">G(F(a &amp; Xa) &amp; F!a)</text>\n",
       "<text text-anchor=\"start\" x=\"35.5\" y=\"-108.55\" font-family=\"Lato\" font-size=\"14.00\">Inf(</text>\n",
       "<text text-anchor=\"start\" x=\"56.5\" y=\"-108.55\" font-family=\"Lato\" font-size=\"14.00\" fill=\"#1f78b4\">⓿</text>\n",
       "<text text-anchor=\"start\" x=\"72.5\" y=\"-108.55\" font-family=\"Lato\" font-size=\"14.00\">)&amp;Inf(</text>\n",
       "<text text-anchor=\"start\" x=\"106.5\" y=\"-108.55\" font-family=\"Lato\" font-size=\"14.00\" fill=\"#ff4da0\">❶</text>\n",
       "<text text-anchor=\"start\" x=\"122.5\" y=\"-108.55\" font-family=\"Lato\" font-size=\"14.00\">)</text>\n",
       "<text text-anchor=\"start\" x=\"38.5\" y=\"-94.55\" font-family=\"Lato\" font-size=\"14.00\">[gen. Büchi 2]</text>\n",
       "<!-- I -->\n",
       "<!-- 0 -->\n",
       "<g id=\"node2\" class=\"node\">\n",
       "<title>0</title>\n",
       "<ellipse fill=\"#ffffaa\" stroke=\"black\" cx=\"56\" cy=\"-20.75\" rx=\"18\" ry=\"18\"/>\n",
       "<text text-anchor=\"middle\" x=\"56\" y=\"-17.05\" font-family=\"Lato\" font-size=\"14.00\">0</text>\n",
       "</g>\n",
       "<!-- I&#45;&gt;0 -->\n",
       "<g id=\"edge1\" class=\"edge\">\n",
       "<title>I&#45;&gt;0</title>\n",
       "<path fill=\"none\" stroke=\"black\" d=\"M1.15,-20.75C2.79,-20.75 17.15,-20.75 30.63,-20.75\"/>\n",
       "<polygon fill=\"black\" stroke=\"black\" points=\"37.94,-20.75 30.94,-23.9 34.44,-20.75 30.94,-20.75 30.94,-20.75 30.94,-20.75 34.44,-20.75 30.94,-17.6 37.94,-20.75 37.94,-20.75\"/>\n",
       "</g>\n",
       "<!-- 0&#45;&gt;0 -->\n",
       "<g id=\"edge2\" class=\"edge\">\n",
       "<title>0&#45;&gt;0</title>\n",
       "<path fill=\"none\" stroke=\"black\" d=\"M49.62,-37.79C48.32,-47.61 50.45,-56.75 56,-56.75 60.17,-56.75 62.4,-51.61 62.71,-44.89\"/>\n",
       "<polygon fill=\"black\" stroke=\"black\" points=\"62.38,-37.79 65.85,-44.63 62.54,-41.28 62.71,-44.78 62.71,-44.78 62.71,-44.78 62.54,-41.28 59.56,-44.93 62.38,-37.79 62.38,-37.79\"/>\n",
       "<text text-anchor=\"start\" x=\"52.5\" y=\"-75.55\" font-family=\"Lato\" font-size=\"14.00\">a</text>\n",
       "<text text-anchor=\"start\" x=\"48\" y=\"-60.55\" font-family=\"Lato\" font-size=\"14.00\" fill=\"#1f78b4\">⓿</text>\n",
       "</g>\n",
       "<!-- 1 -->\n",
       "<g id=\"node3\" class=\"node\">\n",
       "<title>1</title>\n",
       "<ellipse fill=\"#ffffaa\" stroke=\"black\" cx=\"144\" cy=\"-20.75\" rx=\"18\" ry=\"18\"/>\n",
       "<text text-anchor=\"middle\" x=\"144\" y=\"-17.05\" font-family=\"Lato\" font-size=\"14.00\">1</text>\n",
       "</g>\n",
       "<!-- 0&#45;&gt;1 -->\n",
       "<g id=\"edge3\" class=\"edge\">\n",
       "<title>0&#45;&gt;1</title>\n",
       "<path fill=\"none\" stroke=\"black\" d=\"M74.4,-20.75C87.19,-20.75 104.73,-20.75 118.87,-20.75\"/>\n",
       "<polygon fill=\"black\" stroke=\"black\" points=\"125.92,-20.75 118.92,-23.9 122.42,-20.75 118.92,-20.75 118.92,-20.75 118.92,-20.75 122.42,-20.75 118.92,-17.6 125.92,-20.75 125.92,-20.75\"/>\n",
       "<text text-anchor=\"start\" x=\"94.5\" y=\"-39.55\" font-family=\"Lato\" font-size=\"14.00\">!a</text>\n",
       "<text text-anchor=\"start\" x=\"92\" y=\"-24.55\" font-family=\"Lato\" font-size=\"14.00\" fill=\"#ff4da0\">❶</text>\n",
       "</g>\n",
       "<!-- 1&#45;&gt;0 -->\n",
       "<g id=\"edge4\" class=\"edge\">\n",
       "<title>1&#45;&gt;0</title>\n",
       "<path fill=\"none\" stroke=\"black\" d=\"M128.69,-10.88C122.6,-7.26 115.24,-3.59 108,-1.75 101.11,0 98.89,0 92,-1.75 87.14,-2.98 82.22,-5.05 77.67,-7.37\"/>\n",
       "<polygon fill=\"black\" stroke=\"black\" points=\"71.31,-10.88 75.91,-4.74 74.37,-9.19 77.44,-7.49 77.44,-7.49 77.44,-7.49 74.37,-9.19 78.96,-10.25 71.31,-10.88 71.31,-10.88\"/>\n",
       "<text text-anchor=\"start\" x=\"96.5\" y=\"-5.55\" font-family=\"Lato\" font-size=\"14.00\">a</text>\n",
       "</g>\n",
       "<!-- 1&#45;&gt;1 -->\n",
       "<g id=\"edge5\" class=\"edge\">\n",
       "<title>1&#45;&gt;1</title>\n",
       "<path fill=\"none\" stroke=\"black\" d=\"M136.33,-37.04C134.48,-47.14 137.04,-56.75 144,-56.75 149.22,-56.75 151.96,-51.34 152.23,-44.38\"/>\n",
       "<polygon fill=\"black\" stroke=\"black\" points=\"151.67,-37.04 155.34,-43.78 151.93,-40.53 152.2,-44.02 152.2,-44.02 152.2,-44.02 151.93,-40.53 149.06,-44.26 151.67,-37.04 151.67,-37.04\"/>\n",
       "<text text-anchor=\"start\" x=\"138.5\" y=\"-75.55\" font-family=\"Lato\" font-size=\"14.00\">!a</text>\n",
       "<text text-anchor=\"start\" x=\"136\" y=\"-60.55\" font-family=\"Lato\" font-size=\"14.00\" fill=\"#ff4da0\">❶</text>\n",
       "</g>\n",
       "</g>\n",
       "</svg>\n"
      ],
      "text/plain": [
       "<spot.twa_graph; proxy of <Swig Object of type 'std::shared_ptr< spot::twa_graph > *' at 0x7faad8057690> >"
      ]
     },
     "metadata": {},
     "output_type": "display_data"
    },
    {
     "data": {
      "image/svg+xml": [
       "<?xml version=\"1.0\" encoding=\"UTF-8\" standalone=\"no\"?>\n",
       "<!DOCTYPE svg PUBLIC \"-//W3C//DTD SVG 1.1//EN\"\n",
       " \"http://www.w3.org/Graphics/SVG/1.1/DTD/svg11.dtd\">\n",
       "<!-- Generated by graphviz version 2.43.0 (0)\n",
       " -->\n",
       "<!-- Title: FG(!a | X!a) Pages: 1 -->\n",
       "<svg width=\"248pt\" height=\"164pt\"\n",
       " viewBox=\"0.00 0.00 248.00 164.00\" xmlns=\"http://www.w3.org/2000/svg\" xmlns:xlink=\"http://www.w3.org/1999/xlink\">\n",
       "<g id=\"graph0\" class=\"graph\" transform=\"scale(1.0 1.0) rotate(0) translate(4 160)\">\n",
       "<title>FG(!a | X!a)</title>\n",
       "<polygon fill=\"white\" stroke=\"transparent\" points=\"-4,4 -4,-160 244,-160 244,4 -4,4\"/>\n",
       "<text text-anchor=\"start\" x=\"86.5\" y=\"-141.8\" font-family=\"Lato\" font-size=\"14.00\">FG(!a | X!a)</text>\n",
       "<text text-anchor=\"start\" x=\"99.5\" y=\"-127.8\" font-family=\"Lato\" font-size=\"14.00\">Inf(</text>\n",
       "<text text-anchor=\"start\" x=\"120.5\" y=\"-127.8\" font-family=\"Lato\" font-size=\"14.00\" fill=\"#1f78b4\">⓿</text>\n",
       "<text text-anchor=\"start\" x=\"136.5\" y=\"-127.8\" font-family=\"Lato\" font-size=\"14.00\">)</text>\n",
       "<text text-anchor=\"start\" x=\"98.5\" y=\"-113.8\" font-family=\"Lato\" font-size=\"14.00\">[Büchi]</text>\n",
       "<!-- I -->\n",
       "<!-- 0 -->\n",
       "<g id=\"node2\" class=\"node\">\n",
       "<title>0</title>\n",
       "<path fill=\"#ffffaa\" stroke=\"black\" d=\"M62,-36C62,-36 50,-36 50,-36 44,-36 38,-30 38,-24 38,-24 38,-12 38,-12 38,-6 44,0 50,0 50,0 62,0 62,0 68,0 74,-6 74,-12 74,-12 74,-24 74,-24 74,-30 68,-36 62,-36\"/>\n",
       "<text text-anchor=\"middle\" x=\"56\" y=\"-14.3\" font-family=\"Lato\" font-size=\"14.00\">0</text>\n",
       "</g>\n",
       "<!-- I&#45;&gt;0 -->\n",
       "<g id=\"edge1\" class=\"edge\">\n",
       "<title>I&#45;&gt;0</title>\n",
       "<path fill=\"none\" stroke=\"black\" d=\"M1.15,-18C2.79,-18 17.15,-18 30.63,-18\"/>\n",
       "<polygon fill=\"black\" stroke=\"black\" points=\"37.94,-18 30.94,-21.15 34.44,-18 30.94,-18 30.94,-18 30.94,-18 34.44,-18 30.94,-14.85 37.94,-18 37.94,-18\"/>\n",
       "</g>\n",
       "<!-- 0&#45;&gt;0 -->\n",
       "<g id=\"edge2\" class=\"edge\">\n",
       "<title>0&#45;&gt;0</title>\n",
       "<path fill=\"none\" stroke=\"black\" d=\"M49.49,-36.15C48.49,-45.54 50.66,-54 56,-54 59.92,-54 62.14,-49.44 62.64,-43.3\"/>\n",
       "<polygon fill=\"black\" stroke=\"black\" points=\"62.51,-36.15 65.79,-43.1 62.57,-39.65 62.64,-43.15 62.64,-43.15 62.64,-43.15 62.57,-39.65 59.49,-43.21 62.51,-36.15 62.51,-36.15\"/>\n",
       "<text text-anchor=\"start\" x=\"51.5\" y=\"-57.8\" font-family=\"Lato\" font-size=\"14.00\">1</text>\n",
       "</g>\n",
       "<!-- 1 -->\n",
       "<g id=\"node3\" class=\"node\">\n",
       "<title>1</title>\n",
       "<path fill=\"#ffffaa\" stroke=\"black\" d=\"M145,-73C145,-73 133,-73 133,-73 127,-73 121,-67 121,-61 121,-61 121,-47 121,-47 121,-41 127,-35 133,-35 133,-35 145,-35 145,-35 151,-35 157,-41 157,-47 157,-47 157,-61 157,-61 157,-67 151,-73 145,-73\"/>\n",
       "<text text-anchor=\"start\" x=\"134.5\" y=\"-57.8\" font-family=\"Lato\" font-size=\"14.00\">1</text>\n",
       "<text text-anchor=\"start\" x=\"131\" y=\"-42.8\" font-family=\"Lato\" font-size=\"14.00\" fill=\"#1f78b4\">⓿</text>\n",
       "</g>\n",
       "<!-- 0&#45;&gt;1 -->\n",
       "<g id=\"edge3\" class=\"edge\">\n",
       "<title>0&#45;&gt;1</title>\n",
       "<path fill=\"none\" stroke=\"black\" d=\"M74.18,-25.63C85.88,-30.84 101.53,-37.79 114.4,-43.51\"/>\n",
       "<polygon fill=\"black\" stroke=\"black\" points=\"120.85,-46.38 113.17,-46.41 117.65,-44.95 114.45,-43.53 114.45,-43.53 114.45,-43.53 117.65,-44.95 115.73,-40.65 120.85,-46.38 120.85,-46.38\"/>\n",
       "<text text-anchor=\"start\" x=\"92\" y=\"-41.8\" font-family=\"Lato\" font-size=\"14.00\">!a</text>\n",
       "</g>\n",
       "<!-- 2 -->\n",
       "<g id=\"node4\" class=\"node\">\n",
       "<title>2</title>\n",
       "<path fill=\"#ffffaa\" stroke=\"black\" d=\"M228,-54C228,-54 216,-54 216,-54 210,-54 204,-48 204,-42 204,-42 204,-28 204,-28 204,-22 210,-16 216,-16 216,-16 228,-16 228,-16 234,-16 240,-22 240,-28 240,-28 240,-42 240,-42 240,-48 234,-54 228,-54\"/>\n",
       "<text text-anchor=\"start\" x=\"217.5\" y=\"-38.8\" font-family=\"Lato\" font-size=\"14.00\">2</text>\n",
       "<text text-anchor=\"start\" x=\"214\" y=\"-23.8\" font-family=\"Lato\" font-size=\"14.00\" fill=\"#1f78b4\">⓿</text>\n",
       "</g>\n",
       "<!-- 0&#45;&gt;2 -->\n",
       "<g id=\"edge4\" class=\"edge\">\n",
       "<title>0&#45;&gt;2</title>\n",
       "<path fill=\"none\" stroke=\"black\" d=\"M74.13,-14.24C94.15,-10.43 128.23,-5.78 157,-11 170.76,-13.5 185.42,-18.78 197.23,-23.76\"/>\n",
       "<polygon fill=\"black\" stroke=\"black\" points=\"203.83,-26.63 196.15,-26.72 200.62,-25.23 197.41,-23.84 197.41,-23.84 197.41,-23.84 200.62,-25.23 198.66,-20.95 203.83,-26.63 203.83,-26.63\"/>\n",
       "<text text-anchor=\"start\" x=\"135.5\" y=\"-14.8\" font-family=\"Lato\" font-size=\"14.00\">a</text>\n",
       "</g>\n",
       "<!-- 1&#45;&gt;1 -->\n",
       "<g id=\"edge5\" class=\"edge\">\n",
       "<title>1&#45;&gt;1</title>\n",
       "<path fill=\"none\" stroke=\"black\" d=\"M131.72,-73.04C130.71,-82.53 133.14,-91 139,-91 143.3,-91 145.75,-86.43 146.35,-80.25\"/>\n",
       "<polygon fill=\"black\" stroke=\"black\" points=\"146.28,-73.04 149.5,-80 146.32,-76.54 146.35,-80.04 146.35,-80.04 146.35,-80.04 146.32,-76.54 143.2,-80.07 146.28,-73.04 146.28,-73.04\"/>\n",
       "<text text-anchor=\"start\" x=\"133.5\" y=\"-94.8\" font-family=\"Lato\" font-size=\"14.00\">!a</text>\n",
       "</g>\n",
       "<!-- 1&#45;&gt;2 -->\n",
       "<g id=\"edge6\" class=\"edge\">\n",
       "<title>1&#45;&gt;2</title>\n",
       "<path fill=\"none\" stroke=\"black\" d=\"M157.27,-54.35C166,-54.15 176.69,-53.35 186,-51 189.73,-50.06 193.54,-48.74 197.22,-47.25\"/>\n",
       "<polygon fill=\"black\" stroke=\"black\" points=\"203.65,-44.44 198.5,-50.13 200.44,-45.84 197.24,-47.24 197.24,-47.24 197.24,-47.24 200.44,-45.84 195.97,-44.36 203.65,-44.44 203.65,-44.44\"/>\n",
       "<text text-anchor=\"start\" x=\"177\" y=\"-55.8\" font-family=\"Lato\" font-size=\"14.00\">a</text>\n",
       "</g>\n",
       "<!-- 2&#45;&gt;1 -->\n",
       "<g id=\"edge7\" class=\"edge\">\n",
       "<title>2&#45;&gt;1</title>\n",
       "<path fill=\"none\" stroke=\"black\" d=\"M203.66,-31.11C194.91,-29.83 184.23,-29.34 175,-32 171.02,-33.15 167.06,-34.89 163.31,-36.91\"/>\n",
       "<polygon fill=\"black\" stroke=\"black\" points=\"157.23,-40.5 161.66,-34.23 160.25,-38.72 163.26,-36.94 163.26,-36.94 163.26,-36.94 160.25,-38.72 164.86,-39.65 157.23,-40.5 157.23,-40.5\"/>\n",
       "<text text-anchor=\"start\" x=\"175\" y=\"-35.8\" font-family=\"Lato\" font-size=\"14.00\">!a</text>\n",
       "</g>\n",
       "</g>\n",
       "</svg>\n"
      ],
      "text/plain": [
       "<spot.twa_graph; proxy of <Swig Object of type 'std::shared_ptr< spot::twa_graph > *' at 0x7faad8253210> >"
      ]
     },
     "metadata": {},
     "output_type": "display_data"
    }
   ],
   "source": [
    "aut1 = spot.translate(g1)\n",
    "aut1.set_name(str(g1))\n",
    "spot.highlight_stutter_invariant_states(aut1, g1, 5)\n",
    "display(aut1)\n",
    "\n",
    "aut2 = spot.translate(g2)\n",
    "aut2.set_name(str(g2))\n",
    "spot.highlight_stutter_invariant_states(aut2, g2, 5)\n",
    "display(aut2)"
   ]
  },
  {
   "cell_type": "markdown",
   "metadata": {},
   "source": [
    "Now we build the sum of these two automata.  The stutter-invariance check detects that the initial state is stutter-invariant (i.e., the entire language is stutter-invariant) so all states below it are marked despite the fact that the language recognized from these individual states would not be stutter-invariant."
   ]
  },
  {
   "cell_type": "code",
   "execution_count": 20,
   "metadata": {},
   "outputs": [
    {
     "data": {
      "image/svg+xml": [
       "<?xml version=\"1.0\" encoding=\"UTF-8\" standalone=\"no\"?>\n",
       "<!DOCTYPE svg PUBLIC \"-//W3C//DTD SVG 1.1//EN\"\n",
       " \"http://www.w3.org/Graphics/SVG/1.1/DTD/svg11.dtd\">\n",
       "<!-- Generated by graphviz version 2.43.0 (0)\n",
       " -->\n",
       "<!-- Pages: 1 -->\n",
       "<svg width=\"339pt\" height=\"328pt\"\n",
       " viewBox=\"0.00 0.00 339.00 328.13\" xmlns=\"http://www.w3.org/2000/svg\" xmlns:xlink=\"http://www.w3.org/1999/xlink\">\n",
       "<g id=\"graph0\" class=\"graph\" transform=\"scale(1.0 1.0) rotate(0) translate(4 324.13)\">\n",
       "<polygon fill=\"white\" stroke=\"transparent\" points=\"-4,4 -4,-324.13 335,-324.13 335,4 -4,4\"/>\n",
       "<text text-anchor=\"start\" x=\"90\" y=\"-305.93\" font-family=\"Lato\" font-size=\"14.00\">(Inf(</text>\n",
       "<text text-anchor=\"start\" x=\"115\" y=\"-305.93\" font-family=\"Lato\" font-size=\"14.00\" fill=\"#1f78b4\">⓿</text>\n",
       "<text text-anchor=\"start\" x=\"131\" y=\"-305.93\" font-family=\"Lato\" font-size=\"14.00\">)&amp;Inf(</text>\n",
       "<text text-anchor=\"start\" x=\"165\" y=\"-305.93\" font-family=\"Lato\" font-size=\"14.00\" fill=\"#ff4da0\">❶</text>\n",
       "<text text-anchor=\"start\" x=\"181\" y=\"-305.93\" font-family=\"Lato\" font-size=\"14.00\">)) | Inf(</text>\n",
       "<text text-anchor=\"start\" x=\"221\" y=\"-305.93\" font-family=\"Lato\" font-size=\"14.00\" fill=\"#ff7f00\">❷</text>\n",
       "<text text-anchor=\"start\" x=\"237\" y=\"-305.93\" font-family=\"Lato\" font-size=\"14.00\">)</text>\n",
       "<text text-anchor=\"start\" x=\"131.5\" y=\"-291.93\" font-family=\"Lato\" font-size=\"14.00\">[Fin&#45;less 3]</text>\n",
       "<!-- I -->\n",
       "<!-- 5 -->\n",
       "<g id=\"node2\" class=\"node\">\n",
       "<title>5</title>\n",
       "<ellipse fill=\"#ffffaa\" stroke=\"#e31a1c\" stroke-width=\"2\" cx=\"56\" cy=\"-80.13\" rx=\"18\" ry=\"18\"/>\n",
       "<text text-anchor=\"middle\" x=\"56\" y=\"-76.43\" font-family=\"Lato\" font-size=\"14.00\">5</text>\n",
       "</g>\n",
       "<!-- I&#45;&gt;5 -->\n",
       "<g id=\"edge1\" class=\"edge\">\n",
       "<title>I&#45;&gt;5</title>\n",
       "<path fill=\"none\" stroke=\"black\" d=\"M1.15,-80.13C2.79,-80.13 17.15,-80.13 30.63,-80.13\"/>\n",
       "<polygon fill=\"black\" stroke=\"black\" points=\"37.94,-80.13 30.94,-83.28 34.44,-80.13 30.94,-80.13 30.94,-80.13 30.94,-80.13 34.44,-80.13 30.94,-76.98 37.94,-80.13 37.94,-80.13\"/>\n",
       "</g>\n",
       "<!-- 0 -->\n",
       "<g id=\"node3\" class=\"node\">\n",
       "<title>0</title>\n",
       "<ellipse fill=\"#ffffaa\" stroke=\"#e31a1c\" stroke-width=\"2\" cx=\"137\" cy=\"-218.13\" rx=\"18\" ry=\"18\"/>\n",
       "<text text-anchor=\"middle\" x=\"137\" y=\"-214.43\" font-family=\"Lato\" font-size=\"14.00\">0</text>\n",
       "</g>\n",
       "<!-- 5&#45;&gt;0 -->\n",
       "<g id=\"edge14\" class=\"edge\">\n",
       "<title>5&#45;&gt;0</title>\n",
       "<path fill=\"none\" stroke=\"black\" d=\"M60.14,-97.87C64.55,-119.13 74.12,-155.14 92,-181.13 98.13,-190.05 106.96,-198.04 115.1,-204.3\"/>\n",
       "<polygon fill=\"black\" stroke=\"black\" points=\"121.13,-208.74 113.63,-207.13 118.31,-206.67 115.49,-204.59 115.49,-204.59 115.49,-204.59 118.31,-206.67 117.36,-202.05 121.13,-208.74 121.13,-208.74\"/>\n",
       "<text text-anchor=\"start\" x=\"93\" y=\"-193.93\" font-family=\"Lato\" font-size=\"14.00\">a</text>\n",
       "</g>\n",
       "<!-- 1 -->\n",
       "<g id=\"node4\" class=\"node\">\n",
       "<title>1</title>\n",
       "<ellipse fill=\"#ffffaa\" stroke=\"#e31a1c\" stroke-width=\"2\" cx=\"225\" cy=\"-200.13\" rx=\"18\" ry=\"18\"/>\n",
       "<text text-anchor=\"middle\" x=\"225\" y=\"-196.43\" font-family=\"Lato\" font-size=\"14.00\">1</text>\n",
       "</g>\n",
       "<!-- 5&#45;&gt;1 -->\n",
       "<g id=\"edge12\" class=\"edge\">\n",
       "<title>5&#45;&gt;1</title>\n",
       "<path fill=\"none\" stroke=\"black\" d=\"M68.98,-93.53C80.89,-106.4 100.07,-125.92 119,-140.13 145.78,-160.24 179.95,-178.59 201.9,-189.56\"/>\n",
       "<polygon fill=\"black\" stroke=\"black\" points=\"208.3,-192.72 200.63,-192.44 205.17,-191.17 202.03,-189.62 202.03,-189.62 202.03,-189.62 205.17,-191.17 203.42,-186.79 208.3,-192.72 208.3,-192.72\"/>\n",
       "<text text-anchor=\"start\" x=\"131.5\" y=\"-166.93\" font-family=\"Lato\" font-size=\"14.00\">!a</text>\n",
       "</g>\n",
       "<!-- 2 -->\n",
       "<g id=\"node5\" class=\"node\">\n",
       "<title>2</title>\n",
       "<ellipse fill=\"#ffffaa\" stroke=\"#e31a1c\" stroke-width=\"2\" cx=\"137\" cy=\"-80.13\" rx=\"18\" ry=\"18\"/>\n",
       "<text text-anchor=\"middle\" x=\"137\" y=\"-76.43\" font-family=\"Lato\" font-size=\"14.00\">2</text>\n",
       "</g>\n",
       "<!-- 5&#45;&gt;2 -->\n",
       "<g id=\"edge16\" class=\"edge\">\n",
       "<title>5&#45;&gt;2</title>\n",
       "<path fill=\"none\" stroke=\"black\" d=\"M74.14,-80.13C85.12,-80.13 99.52,-80.13 111.67,-80.13\"/>\n",
       "<polygon fill=\"black\" stroke=\"black\" points=\"118.89,-80.13 111.89,-83.28 115.39,-80.13 111.89,-80.13 111.89,-80.13 111.89,-80.13 115.39,-80.13 111.89,-76.98 118.89,-80.13 118.89,-80.13\"/>\n",
       "<text text-anchor=\"middle\" x=\"96.5\" y=\"-83.93\" font-family=\"Lato\" font-size=\"14.00\">1</text>\n",
       "</g>\n",
       "<!-- 3 -->\n",
       "<g id=\"node6\" class=\"node\">\n",
       "<title>3</title>\n",
       "<ellipse fill=\"#ffffaa\" stroke=\"#e31a1c\" stroke-width=\"2\" cx=\"225\" cy=\"-29.13\" rx=\"18\" ry=\"18\"/>\n",
       "<text text-anchor=\"middle\" x=\"225\" y=\"-25.43\" font-family=\"Lato\" font-size=\"14.00\">3</text>\n",
       "</g>\n",
       "<!-- 5&#45;&gt;3 -->\n",
       "<g id=\"edge13\" class=\"edge\">\n",
       "<title>5&#45;&gt;3</title>\n",
       "<path fill=\"none\" stroke=\"black\" d=\"M70.16,-68.24C82.01,-58.3 100.37,-44.73 119,-38.13 145.38,-28.79 177.72,-27.4 199.48,-27.79\"/>\n",
       "<polygon fill=\"black\" stroke=\"black\" points=\"206.71,-28 199.63,-30.95 203.21,-27.9 199.72,-27.8 199.72,-27.8 199.72,-27.8 203.21,-27.9 199.8,-24.65 206.71,-28 206.71,-28\"/>\n",
       "<text text-anchor=\"start\" x=\"131.5\" y=\"-41.93\" font-family=\"Lato\" font-size=\"14.00\">!a</text>\n",
       "</g>\n",
       "<!-- 4 -->\n",
       "<g id=\"node7\" class=\"node\">\n",
       "<title>4</title>\n",
       "<ellipse fill=\"#ffffaa\" stroke=\"#e31a1c\" stroke-width=\"2\" cx=\"313\" cy=\"-48.13\" rx=\"18\" ry=\"18\"/>\n",
       "<text text-anchor=\"middle\" x=\"313\" y=\"-44.43\" font-family=\"Lato\" font-size=\"14.00\">4</text>\n",
       "</g>\n",
       "<!-- 5&#45;&gt;4 -->\n",
       "<g id=\"edge15\" class=\"edge\">\n",
       "<title>5&#45;&gt;4</title>\n",
       "<path fill=\"none\" stroke=\"black\" d=\"M68.19,-66.28C74.7,-58.68 83.31,-49.36 92,-42.13 133.59,-7.51 153.09,-6.85 207,-2.13 238.61,0.63 250.21,0.87 277,-16.13 283.36,-20.17 289.65,-25.41 295.1,-30.48\"/>\n",
       "<polygon fill=\"black\" stroke=\"black\" points=\"300.24,-35.44 293.01,-32.85 297.72,-33.01 295.2,-30.58 295.2,-30.58 295.2,-30.58 297.72,-33.01 297.39,-28.31 300.24,-35.44 300.24,-35.44\"/>\n",
       "<text text-anchor=\"start\" x=\"177.5\" y=\"-8.93\" font-family=\"Lato\" font-size=\"14.00\">a</text>\n",
       "</g>\n",
       "<!-- 0&#45;&gt;0 -->\n",
       "<g id=\"edge2\" class=\"edge\">\n",
       "<title>0&#45;&gt;0</title>\n",
       "<path fill=\"none\" stroke=\"black\" d=\"M129.97,-234.8C128.41,-244.76 130.75,-254.13 137,-254.13 141.69,-254.13 144.18,-248.86 144.47,-242.02\"/>\n",
       "<polygon fill=\"black\" stroke=\"black\" points=\"144.03,-234.8 147.6,-241.59 144.24,-238.29 144.46,-241.79 144.46,-241.79 144.46,-241.79 144.24,-238.29 141.31,-241.98 144.03,-234.8 144.03,-234.8\"/>\n",
       "<text text-anchor=\"start\" x=\"133.5\" y=\"-272.93\" font-family=\"Lato\" font-size=\"14.00\">a</text>\n",
       "<text text-anchor=\"start\" x=\"129\" y=\"-257.93\" font-family=\"Lato\" font-size=\"14.00\" fill=\"#1f78b4\">⓿</text>\n",
       "</g>\n",
       "<!-- 0&#45;&gt;1 -->\n",
       "<g id=\"edge3\" class=\"edge\">\n",
       "<title>0&#45;&gt;1</title>\n",
       "<path fill=\"none\" stroke=\"black\" d=\"M152.8,-209.19C158.84,-206.01 166.04,-202.81 173,-201.13 181.52,-199.09 191.08,-198.47 199.6,-198.49\"/>\n",
       "<polygon fill=\"black\" stroke=\"black\" points=\"206.77,-198.65 199.7,-201.64 203.27,-198.57 199.77,-198.49 199.77,-198.49 199.77,-198.49 203.27,-198.57 199.84,-195.34 206.77,-198.65 206.77,-198.65\"/>\n",
       "<text text-anchor=\"start\" x=\"175.5\" y=\"-219.93\" font-family=\"Lato\" font-size=\"14.00\">!a</text>\n",
       "<text text-anchor=\"start\" x=\"173\" y=\"-204.93\" font-family=\"Lato\" font-size=\"14.00\" fill=\"#ff4da0\">❶</text>\n",
       "</g>\n",
       "<!-- 1&#45;&gt;0 -->\n",
       "<g id=\"edge4\" class=\"edge\">\n",
       "<title>1&#45;&gt;0</title>\n",
       "<path fill=\"none\" stroke=\"black\" d=\"M212.88,-213.84C206.64,-220.42 198.26,-227.62 189,-231.13 179.6,-234.7 168.87,-232.8 159.68,-229.48\"/>\n",
       "<polygon fill=\"black\" stroke=\"black\" points=\"153,-226.72 160.68,-226.48 156.24,-228.06 159.47,-229.39 159.47,-229.39 159.47,-229.39 156.24,-228.06 158.27,-232.3 153,-226.72 153,-226.72\"/>\n",
       "<text text-anchor=\"start\" x=\"177.5\" y=\"-235.93\" font-family=\"Lato\" font-size=\"14.00\">a</text>\n",
       "</g>\n",
       "<!-- 1&#45;&gt;1 -->\n",
       "<g id=\"edge5\" class=\"edge\">\n",
       "<title>1&#45;&gt;1</title>\n",
       "<path fill=\"none\" stroke=\"black\" d=\"M217.33,-216.43C215.48,-226.52 218.04,-236.13 225,-236.13 230.22,-236.13 232.96,-230.73 233.23,-223.77\"/>\n",
       "<polygon fill=\"black\" stroke=\"black\" points=\"232.67,-216.43 236.34,-223.16 232.93,-219.91 233.2,-223.4 233.2,-223.4 233.2,-223.4 232.93,-219.91 230.06,-223.64 232.67,-216.43 232.67,-216.43\"/>\n",
       "<text text-anchor=\"start\" x=\"219.5\" y=\"-254.93\" font-family=\"Lato\" font-size=\"14.00\">!a</text>\n",
       "<text text-anchor=\"start\" x=\"217\" y=\"-239.93\" font-family=\"Lato\" font-size=\"14.00\" fill=\"#ff4da0\">❶</text>\n",
       "</g>\n",
       "<!-- 2&#45;&gt;2 -->\n",
       "<g id=\"edge6\" class=\"edge\">\n",
       "<title>2&#45;&gt;2</title>\n",
       "<path fill=\"none\" stroke=\"black\" d=\"M129.97,-96.8C128.41,-106.76 130.75,-116.13 137,-116.13 141.69,-116.13 144.18,-110.86 144.47,-104.02\"/>\n",
       "<polygon fill=\"black\" stroke=\"black\" points=\"144.03,-96.8 147.6,-103.59 144.24,-100.29 144.46,-103.79 144.46,-103.79 144.46,-103.79 144.24,-100.29 141.31,-103.98 144.03,-96.8 144.03,-96.8\"/>\n",
       "<text text-anchor=\"middle\" x=\"137\" y=\"-119.93\" font-family=\"Lato\" font-size=\"14.00\">1</text>\n",
       "</g>\n",
       "<!-- 2&#45;&gt;3 -->\n",
       "<g id=\"edge7\" class=\"edge\">\n",
       "<title>2&#45;&gt;3</title>\n",
       "<path fill=\"none\" stroke=\"black\" d=\"M152.98,-71.25C166.79,-63.06 187.43,-50.82 202.91,-41.64\"/>\n",
       "<polygon fill=\"black\" stroke=\"black\" points=\"209.19,-37.92 204.78,-44.2 206.18,-39.7 203.17,-41.49 203.17,-41.49 203.17,-41.49 206.18,-39.7 201.56,-38.78 209.19,-37.92 209.19,-37.92\"/>\n",
       "<text text-anchor=\"start\" x=\"175.5\" y=\"-62.93\" font-family=\"Lato\" font-size=\"14.00\">!a</text>\n",
       "</g>\n",
       "<!-- 2&#45;&gt;4 -->\n",
       "<g id=\"edge8\" class=\"edge\">\n",
       "<title>2&#45;&gt;4</title>\n",
       "<path fill=\"none\" stroke=\"black\" d=\"M153.27,-87.85C173.67,-97.19 210.98,-110.88 243,-104.13 259.16,-100.73 263.75,-99 277,-89.13 284.62,-83.46 291.71,-75.83 297.48,-68.7\"/>\n",
       "<polygon fill=\"black\" stroke=\"black\" points=\"302,-62.88 300.2,-70.34 299.86,-65.64 297.71,-68.4 297.71,-68.4 297.71,-68.4 299.86,-65.64 295.22,-66.47 302,-62.88 302,-62.88\"/>\n",
       "<text text-anchor=\"start\" x=\"221.5\" y=\"-108.93\" font-family=\"Lato\" font-size=\"14.00\">a</text>\n",
       "</g>\n",
       "<!-- 3&#45;&gt;3 -->\n",
       "<g id=\"edge9\" class=\"edge\">\n",
       "<title>3&#45;&gt;3</title>\n",
       "<path fill=\"none\" stroke=\"black\" d=\"M217.33,-45.43C215.48,-55.52 218.04,-65.13 225,-65.13 230.22,-65.13 232.96,-59.73 233.23,-52.77\"/>\n",
       "<polygon fill=\"black\" stroke=\"black\" points=\"232.67,-45.43 236.34,-52.16 232.93,-48.91 233.2,-52.4 233.2,-52.4 233.2,-52.4 232.93,-48.91 230.06,-52.64 232.67,-45.43 232.67,-45.43\"/>\n",
       "<text text-anchor=\"start\" x=\"219.5\" y=\"-83.93\" font-family=\"Lato\" font-size=\"14.00\">!a</text>\n",
       "<text text-anchor=\"start\" x=\"217\" y=\"-68.93\" font-family=\"Lato\" font-size=\"14.00\" fill=\"#ff7f00\">❷</text>\n",
       "</g>\n",
       "<!-- 3&#45;&gt;4 -->\n",
       "<g id=\"edge10\" class=\"edge\">\n",
       "<title>3&#45;&gt;4</title>\n",
       "<path fill=\"none\" stroke=\"black\" d=\"M242.42,-23.75C252.58,-21.25 265.79,-19.54 277,-23.13 282.93,-25.03 288.71,-28.35 293.81,-31.95\"/>\n",
       "<polygon fill=\"black\" stroke=\"black\" points=\"299.45,-36.25 291.97,-34.52 296.66,-34.13 293.88,-32.01 293.88,-32.01 293.88,-32.01 296.66,-34.13 295.79,-29.51 299.45,-36.25 299.45,-36.25\"/>\n",
       "<text text-anchor=\"start\" x=\"265.5\" y=\"-41.93\" font-family=\"Lato\" font-size=\"14.00\">a</text>\n",
       "<text text-anchor=\"start\" x=\"261\" y=\"-26.93\" font-family=\"Lato\" font-size=\"14.00\" fill=\"#ff7f00\">❷</text>\n",
       "</g>\n",
       "<!-- 4&#45;&gt;3 -->\n",
       "<g id=\"edge11\" class=\"edge\">\n",
       "<title>4&#45;&gt;3</title>\n",
       "<path fill=\"none\" stroke=\"black\" d=\"M295.59,-52.96C285.43,-55.17 272.22,-56.61 261,-53.13 255.36,-51.39 249.82,-48.38 244.87,-45.07\"/>\n",
       "<polygon fill=\"black\" stroke=\"black\" points=\"238.95,-40.8 246.47,-42.35 241.79,-42.85 244.63,-44.9 244.63,-44.9 244.63,-44.9 241.79,-42.85 242.78,-47.45 238.95,-40.8 238.95,-40.8\"/>\n",
       "<text text-anchor=\"start\" x=\"263.5\" y=\"-73.93\" font-family=\"Lato\" font-size=\"14.00\">!a</text>\n",
       "<text text-anchor=\"start\" x=\"261\" y=\"-58.93\" font-family=\"Lato\" font-size=\"14.00\" fill=\"#ff7f00\">❷</text>\n",
       "</g>\n",
       "</g>\n",
       "</svg>\n"
      ],
      "text/plain": [
       "<spot.twa_graph; proxy of <Swig Object of type 'std::shared_ptr< spot::twa_graph > *' at 0x7faad8057ea0> >"
      ]
     },
     "metadata": {},
     "output_type": "display_data"
    }
   ],
   "source": [
    "aut = spot.sum(aut1, aut2)\n",
    "# At this point it is unknown if AUT is stutter-invariant\n",
    "assert(aut.prop_stutter_invariant().is_maybe())\n",
    "spot.highlight_stutter_invariant_states(aut, g, 5)\n",
    "display(aut)\n",
    "# The stutter_invariant property is set on AUT as a side effect\n",
    "# of calling sutter_invariant_states() or any variant of it.\n",
    "assert(aut.prop_stutter_invariant().is_true())"
   ]
  },
  {
   "cell_type": "markdown",
   "metadata": {},
   "source": [
    "### Third example\n",
    "\n",
    "These procedures work regardless of the acceptance condition.  Here is an example with co-Büchi acceptance.\n",
    "\n",
    "In this case we do not even have a formula to pass as second argument, so the check will perform a complementation by determinization."
   ]
  },
  {
   "cell_type": "code",
   "execution_count": 21,
   "metadata": {},
   "outputs": [
    {
     "data": {
      "image/svg+xml": [
       "<?xml version=\"1.0\" encoding=\"UTF-8\" standalone=\"no\"?>\n",
       "<!DOCTYPE svg PUBLIC \"-//W3C//DTD SVG 1.1//EN\"\n",
       " \"http://www.w3.org/Graphics/SVG/1.1/DTD/svg11.dtd\">\n",
       "<!-- Generated by graphviz version 2.43.0 (0)\n",
       " -->\n",
       "<!-- Pages: 1 -->\n",
       "<svg width=\"331pt\" height=\"115pt\"\n",
       " viewBox=\"0.00 0.00 331.00 115.25\" xmlns=\"http://www.w3.org/2000/svg\" xmlns:xlink=\"http://www.w3.org/1999/xlink\">\n",
       "<g id=\"graph0\" class=\"graph\" transform=\"scale(1.0 1.0) rotate(0) translate(4 111.25)\">\n",
       "<polygon fill=\"white\" stroke=\"transparent\" points=\"-4,4 -4,-111.25 327,-111.25 327,4 -4,4\"/>\n",
       "<text text-anchor=\"start\" x=\"140\" y=\"-93.05\" font-family=\"Lato\" font-size=\"14.00\">Fin(</text>\n",
       "<text text-anchor=\"start\" x=\"163\" y=\"-93.05\" font-family=\"Lato\" font-size=\"14.00\" fill=\"#1f78b4\">⓿</text>\n",
       "<text text-anchor=\"start\" x=\"179\" y=\"-93.05\" font-family=\"Lato\" font-size=\"14.00\">)</text>\n",
       "<text text-anchor=\"start\" x=\"130\" y=\"-79.05\" font-family=\"Lato\" font-size=\"14.00\">[co&#45;Büchi]</text>\n",
       "<!-- I -->\n",
       "<!-- 0 -->\n",
       "<g id=\"node2\" class=\"node\">\n",
       "<title>0</title>\n",
       "<path fill=\"#ffffaa\" stroke=\"black\" d=\"M62,-38.25C62,-38.25 50,-38.25 50,-38.25 44,-38.25 38,-32.25 38,-26.25 38,-26.25 38,-14.25 38,-14.25 38,-8.25 44,-2.25 50,-2.25 50,-2.25 62,-2.25 62,-2.25 68,-2.25 74,-8.25 74,-14.25 74,-14.25 74,-26.25 74,-26.25 74,-32.25 68,-38.25 62,-38.25\"/>\n",
       "<text text-anchor=\"middle\" x=\"56\" y=\"-16.55\" font-family=\"Lato\" font-size=\"14.00\">0</text>\n",
       "</g>\n",
       "<!-- I&#45;&gt;0 -->\n",
       "<g id=\"edge1\" class=\"edge\">\n",
       "<title>I&#45;&gt;0</title>\n",
       "<path fill=\"none\" stroke=\"black\" d=\"M1.15,-20.25C2.79,-20.25 17.15,-20.25 30.63,-20.25\"/>\n",
       "<polygon fill=\"black\" stroke=\"black\" points=\"37.94,-20.25 30.94,-23.4 34.44,-20.25 30.94,-20.25 30.94,-20.25 30.94,-20.25 34.44,-20.25 30.94,-17.1 37.94,-20.25 37.94,-20.25\"/>\n",
       "</g>\n",
       "<!-- 0&#45;&gt;0 -->\n",
       "<g id=\"edge3\" class=\"edge\">\n",
       "<title>0&#45;&gt;0</title>\n",
       "<path fill=\"none\" stroke=\"black\" d=\"M49.49,-38.41C48.49,-47.79 50.66,-56.25 56,-56.25 59.92,-56.25 62.14,-51.69 62.64,-45.55\"/>\n",
       "<polygon fill=\"black\" stroke=\"black\" points=\"62.51,-38.41 65.79,-45.35 62.57,-41.91 62.64,-45.41 62.64,-45.41 62.64,-45.41 62.57,-41.91 59.49,-45.46 62.51,-38.41 62.51,-38.41\"/>\n",
       "<text text-anchor=\"start\" x=\"52.5\" y=\"-60.05\" font-family=\"Lato\" font-size=\"14.00\">a</text>\n",
       "</g>\n",
       "<!-- 2 -->\n",
       "<g id=\"node3\" class=\"node\">\n",
       "<title>2</title>\n",
       "<path fill=\"#ffffaa\" stroke=\"black\" d=\"M145,-38.25C145,-38.25 133,-38.25 133,-38.25 127,-38.25 121,-32.25 121,-26.25 121,-26.25 121,-14.25 121,-14.25 121,-8.25 127,-2.25 133,-2.25 133,-2.25 145,-2.25 145,-2.25 151,-2.25 157,-8.25 157,-14.25 157,-14.25 157,-26.25 157,-26.25 157,-32.25 151,-38.25 145,-38.25\"/>\n",
       "<text text-anchor=\"middle\" x=\"139\" y=\"-16.55\" font-family=\"Lato\" font-size=\"14.00\">2</text>\n",
       "</g>\n",
       "<!-- 0&#45;&gt;2 -->\n",
       "<g id=\"edge2\" class=\"edge\">\n",
       "<title>0&#45;&gt;2</title>\n",
       "<path fill=\"none\" stroke=\"black\" d=\"M74.18,-20.25C85.67,-20.25 100.96,-20.25 113.69,-20.25\"/>\n",
       "<polygon fill=\"black\" stroke=\"black\" points=\"120.85,-20.25 113.85,-23.4 117.35,-20.25 113.85,-20.25 113.85,-20.25 113.85,-20.25 117.35,-20.25 113.85,-17.1 120.85,-20.25 120.85,-20.25\"/>\n",
       "<text text-anchor=\"start\" x=\"92\" y=\"-24.05\" font-family=\"Lato\" font-size=\"14.00\">!a</text>\n",
       "</g>\n",
       "<!-- 2&#45;&gt;0 -->\n",
       "<g id=\"edge5\" class=\"edge\">\n",
       "<title>2&#45;&gt;0</title>\n",
       "<path fill=\"none\" stroke=\"black\" d=\"M120.93,-7.46C112.43,-2.59 101.88,1.25 92,-1.25 88.15,-2.23 84.26,-3.73 80.55,-5.46\"/>\n",
       "<polygon fill=\"black\" stroke=\"black\" points=\"74.1,-8.78 78.88,-2.78 77.21,-7.18 80.32,-5.58 80.32,-5.58 80.32,-5.58 77.21,-7.18 81.76,-8.38 74.1,-8.78 74.1,-8.78\"/>\n",
       "<text text-anchor=\"start\" x=\"92\" y=\"-5.05\" font-family=\"Lato\" font-size=\"14.00\">!a</text>\n",
       "</g>\n",
       "<!-- 3 -->\n",
       "<g id=\"node5\" class=\"node\">\n",
       "<title>3</title>\n",
       "<path fill=\"#ffffaa\" stroke=\"#e31a1c\" stroke-width=\"2\" d=\"M228,-38.25C228,-38.25 216,-38.25 216,-38.25 210,-38.25 204,-32.25 204,-26.25 204,-26.25 204,-14.25 204,-14.25 204,-8.25 210,-2.25 216,-2.25 216,-2.25 228,-2.25 228,-2.25 234,-2.25 240,-8.25 240,-14.25 240,-14.25 240,-26.25 240,-26.25 240,-32.25 234,-38.25 228,-38.25\"/>\n",
       "<text text-anchor=\"middle\" x=\"222\" y=\"-16.55\" font-family=\"Lato\" font-size=\"14.00\">3</text>\n",
       "</g>\n",
       "<!-- 2&#45;&gt;3 -->\n",
       "<g id=\"edge6\" class=\"edge\">\n",
       "<title>2&#45;&gt;3</title>\n",
       "<path fill=\"none\" stroke=\"black\" d=\"M157.18,-20.25C168.67,-20.25 183.96,-20.25 196.69,-20.25\"/>\n",
       "<polygon fill=\"black\" stroke=\"black\" points=\"203.85,-20.25 196.85,-23.4 200.35,-20.25 196.85,-20.25 196.85,-20.25 196.85,-20.25 200.35,-20.25 196.85,-17.1 203.85,-20.25 203.85,-20.25\"/>\n",
       "<text text-anchor=\"start\" x=\"175\" y=\"-24.05\" font-family=\"Lato\" font-size=\"14.00\">!a</text>\n",
       "</g>\n",
       "<!-- 1 -->\n",
       "<g id=\"node4\" class=\"node\">\n",
       "<title>1</title>\n",
       "<path fill=\"#ffffaa\" stroke=\"#e31a1c\" stroke-width=\"2\" d=\"M311,-39.25C311,-39.25 299,-39.25 299,-39.25 293,-39.25 287,-33.25 287,-27.25 287,-27.25 287,-13.25 287,-13.25 287,-7.25 293,-1.25 299,-1.25 299,-1.25 311,-1.25 311,-1.25 317,-1.25 323,-7.25 323,-13.25 323,-13.25 323,-27.25 323,-27.25 323,-33.25 317,-39.25 311,-39.25\"/>\n",
       "<text text-anchor=\"start\" x=\"300.5\" y=\"-24.05\" font-family=\"Lato\" font-size=\"14.00\">1</text>\n",
       "<text text-anchor=\"start\" x=\"297\" y=\"-9.05\" font-family=\"Lato\" font-size=\"14.00\" fill=\"#1f78b4\">⓿</text>\n",
       "</g>\n",
       "<!-- 1&#45;&gt;3 -->\n",
       "<g id=\"edge4\" class=\"edge\">\n",
       "<title>1&#45;&gt;3</title>\n",
       "<path fill=\"none\" stroke=\"black\" d=\"M286.88,-8.13C278.38,-3.51 267.84,0.13 258,-2.25 254.18,-3.18 250.31,-4.6 246.61,-6.24\"/>\n",
       "<polygon fill=\"black\" stroke=\"black\" points=\"240.17,-9.38 245.08,-3.48 243.31,-7.85 246.46,-6.31 246.46,-6.31 246.46,-6.31 243.31,-7.85 247.84,-9.14 240.17,-9.38 240.17,-9.38\"/>\n",
       "<text text-anchor=\"start\" x=\"260\" y=\"-6.05\" font-family=\"Lato\" font-size=\"14.00\">a</text>\n",
       "</g>\n",
       "<!-- 3&#45;&gt;1 -->\n",
       "<g id=\"edge7\" class=\"edge\">\n",
       "<title>3&#45;&gt;1</title>\n",
       "<path fill=\"none\" stroke=\"black\" d=\"M240.18,-20.25C251.67,-20.25 266.96,-20.25 279.69,-20.25\"/>\n",
       "<polygon fill=\"black\" stroke=\"black\" points=\"286.85,-20.25 279.85,-23.4 283.35,-20.25 279.85,-20.25 279.85,-20.25 279.85,-20.25 283.35,-20.25 279.85,-17.1 286.85,-20.25 286.85,-20.25\"/>\n",
       "<text text-anchor=\"start\" x=\"258\" y=\"-24.05\" font-family=\"Lato\" font-size=\"14.00\">!a</text>\n",
       "</g>\n",
       "</g>\n",
       "</svg>\n"
      ],
      "text/plain": [
       "<spot.twa_graph; proxy of <Swig Object of type 'std::shared_ptr< spot::twa_graph > *' at 0x7faad8247a20> >"
      ]
     },
     "metadata": {},
     "output_type": "display_data"
    }
   ],
   "source": [
    "aut = spot.automaton('randaut --seed=30 -Q4 -A\"Fin(0)\" a |')\n",
    "spot.highlight_stutter_invariant_states(aut, None, 5)\n",
    "display(aut)"
   ]
  },
  {
   "cell_type": "markdown",
   "metadata": {},
   "source": [
    "If the negated automaton is already known, it can be passed as second argument (instead of the positive formula) to avoid unnecessary work."
   ]
  },
  {
   "cell_type": "markdown",
   "metadata": {},
   "source": [
    "## Sutter-invariance at the letter level\n",
    "\n",
    "Instead of marking each state as stuttering or not, we can list the letters that we can stutter in each state.\n",
    "More precisely, a state $q$ is _stutter-invariant for letter $a$_ if the membership to $L(q)$ of any word starting with $a$ is preserved by the operations that duplicate letters or remove duplicates.   \n",
    "\n",
    "$(\\ell_0\\ldots\\ell_{i-1}\\ell_i\\ell_{i+1}\\ldots\\in L(q) \\land \\ell_0=a) \\iff (\\ell_0\\ldots\\ell_{i-1}\\ell_i\\ell_i\\ell_{i+1}\\ldots\\in L(q)\\land \\ell_0=a)$\n",
    "\n",
    "Under this definition, we can also say that $q$ is _stutter-invariant_ iff it is _stutter-invariant for any letter_.\n",
    "\n",
    "For instance consider the following automaton, for which all words that start with $b$ are stutter invariant.\n",
    "The initial state may not be declared as stutter-invariant because of words that start with $\\lnot b$."
   ]
  },
  {
   "cell_type": "code",
   "execution_count": 22,
   "metadata": {},
   "outputs": [
    {
     "data": {
      "image/svg+xml": [
       "<?xml version=\"1.0\" encoding=\"UTF-8\" standalone=\"no\"?>\n",
       "<!DOCTYPE svg PUBLIC \"-//W3C//DTD SVG 1.1//EN\"\n",
       " \"http://www.w3.org/Graphics/SVG/1.1/DTD/svg11.dtd\">\n",
       "<!-- Generated by graphviz version 2.43.0 (0)\n",
       " -->\n",
       "<!-- Pages: 1 -->\n",
       "<svg width=\"245pt\" height=\"203pt\"\n",
       " viewBox=\"0.00 0.00 245.00 203.00\" xmlns=\"http://www.w3.org/2000/svg\" xmlns:xlink=\"http://www.w3.org/1999/xlink\">\n",
       "<g id=\"graph0\" class=\"graph\" transform=\"scale(1.0 1.0) rotate(0) translate(4 199)\">\n",
       "<polygon fill=\"white\" stroke=\"transparent\" points=\"-4,4 -4,-199 241,-199 241,4 -4,4\"/>\n",
       "<text text-anchor=\"start\" x=\"98\" y=\"-180.8\" font-family=\"Lato\" font-size=\"14.00\">Inf(</text>\n",
       "<text text-anchor=\"start\" x=\"119\" y=\"-180.8\" font-family=\"Lato\" font-size=\"14.00\" fill=\"#1f78b4\">⓿</text>\n",
       "<text text-anchor=\"start\" x=\"135\" y=\"-180.8\" font-family=\"Lato\" font-size=\"14.00\">)</text>\n",
       "<text text-anchor=\"start\" x=\"97\" y=\"-166.8\" font-family=\"Lato\" font-size=\"14.00\">[Büchi]</text>\n",
       "<!-- I -->\n",
       "<!-- 3 -->\n",
       "<g id=\"node2\" class=\"node\">\n",
       "<title>3</title>\n",
       "<path fill=\"#ffffaa\" stroke=\"black\" d=\"M62,-81C62,-81 50,-81 50,-81 44,-81 38,-75 38,-69 38,-69 38,-57 38,-57 38,-51 44,-45 50,-45 50,-45 62,-45 62,-45 68,-45 74,-51 74,-57 74,-57 74,-69 74,-69 74,-75 68,-81 62,-81\"/>\n",
       "<text text-anchor=\"middle\" x=\"56\" y=\"-59.3\" font-family=\"Lato\" font-size=\"14.00\">3</text>\n",
       "</g>\n",
       "<!-- I&#45;&gt;3 -->\n",
       "<g id=\"edge1\" class=\"edge\">\n",
       "<title>I&#45;&gt;3</title>\n",
       "<path fill=\"none\" stroke=\"black\" d=\"M1.15,-63C2.79,-63 17.15,-63 30.63,-63\"/>\n",
       "<polygon fill=\"black\" stroke=\"black\" points=\"37.94,-63 30.94,-66.15 34.44,-63 30.94,-63 30.94,-63 30.94,-63 34.44,-63 30.94,-59.85 37.94,-63 37.94,-63\"/>\n",
       "</g>\n",
       "<!-- 0 -->\n",
       "<g id=\"node3\" class=\"node\">\n",
       "<title>0</title>\n",
       "<path fill=\"#ffffaa\" stroke=\"#e31a1c\" stroke-width=\"2\" d=\"M146,-125C146,-125 134,-125 134,-125 128,-125 122,-119 122,-113 122,-113 122,-101 122,-101 122,-95 128,-89 134,-89 134,-89 146,-89 146,-89 152,-89 158,-95 158,-101 158,-101 158,-113 158,-113 158,-119 152,-125 146,-125\"/>\n",
       "<text text-anchor=\"middle\" x=\"140\" y=\"-103.3\" font-family=\"Lato\" font-size=\"14.00\">0</text>\n",
       "</g>\n",
       "<!-- 3&#45;&gt;0 -->\n",
       "<g id=\"edge5\" class=\"edge\">\n",
       "<title>3&#45;&gt;0</title>\n",
       "<path fill=\"none\" stroke=\"black\" d=\"M74.39,-72.33C86.43,-78.79 102.59,-87.46 115.74,-94.52\"/>\n",
       "<polygon fill=\"black\" stroke=\"black\" points=\"121.92,-97.83 114.26,-97.3 118.83,-96.18 115.75,-94.52 115.75,-94.52 115.75,-94.52 118.83,-96.18 117.24,-91.75 121.92,-97.83 121.92,-97.83\"/>\n",
       "<text text-anchor=\"start\" x=\"92\" y=\"-91.8\" font-family=\"Lato\" font-size=\"14.00\">!b</text>\n",
       "</g>\n",
       "<!-- 1 -->\n",
       "<g id=\"node5\" class=\"node\">\n",
       "<title>1</title>\n",
       "<path fill=\"#ffffaa\" stroke=\"#e31a1c\" stroke-width=\"2\" d=\"M146,-38C146,-38 134,-38 134,-38 128,-38 122,-32 122,-26 122,-26 122,-12 122,-12 122,-6 128,0 134,0 134,0 146,0 146,0 152,0 158,-6 158,-12 158,-12 158,-26 158,-26 158,-32 152,-38 146,-38\"/>\n",
       "<text text-anchor=\"start\" x=\"135.5\" y=\"-22.8\" font-family=\"Lato\" font-size=\"14.00\">1</text>\n",
       "<text text-anchor=\"start\" x=\"132\" y=\"-7.8\" font-family=\"Lato\" font-size=\"14.00\" fill=\"#1f78b4\">⓿</text>\n",
       "</g>\n",
       "<!-- 3&#45;&gt;1 -->\n",
       "<g id=\"edge6\" class=\"edge\">\n",
       "<title>3&#45;&gt;1</title>\n",
       "<path fill=\"none\" stroke=\"black\" d=\"M74.39,-53.67C86.43,-47.21 102.59,-38.54 115.74,-31.48\"/>\n",
       "<polygon fill=\"black\" stroke=\"black\" points=\"121.92,-28.17 117.24,-34.25 118.83,-29.82 115.75,-31.48 115.75,-31.48 115.75,-31.48 118.83,-29.82 114.26,-28.7 121.92,-28.17 121.92,-28.17\"/>\n",
       "<text text-anchor=\"start\" x=\"94\" y=\"-47.8\" font-family=\"Lato\" font-size=\"14.00\">b</text>\n",
       "</g>\n",
       "<!-- 2 -->\n",
       "<g id=\"node4\" class=\"node\">\n",
       "<title>2</title>\n",
       "<path fill=\"#ffffaa\" stroke=\"#e31a1c\" stroke-width=\"2\" d=\"M225,-126C225,-126 213,-126 213,-126 207,-126 201,-120 201,-114 201,-114 201,-100 201,-100 201,-94 207,-88 213,-88 213,-88 225,-88 225,-88 231,-88 237,-94 237,-100 237,-100 237,-114 237,-114 237,-120 231,-126 225,-126\"/>\n",
       "<text text-anchor=\"start\" x=\"214.5\" y=\"-110.8\" font-family=\"Lato\" font-size=\"14.00\">2</text>\n",
       "<text text-anchor=\"start\" x=\"211\" y=\"-95.8\" font-family=\"Lato\" font-size=\"14.00\" fill=\"#1f78b4\">⓿</text>\n",
       "</g>\n",
       "<!-- 0&#45;&gt;2 -->\n",
       "<g id=\"edge2\" class=\"edge\">\n",
       "<title>0&#45;&gt;2</title>\n",
       "<path fill=\"none\" stroke=\"black\" d=\"M158.09,-107C168.56,-107 182.12,-107 193.69,-107\"/>\n",
       "<polygon fill=\"black\" stroke=\"black\" points=\"200.96,-107 193.96,-110.15 197.46,-107 193.96,-107 193.96,-107 193.96,-107 197.46,-107 193.96,-103.85 200.96,-107 200.96,-107\"/>\n",
       "<text text-anchor=\"start\" x=\"176\" y=\"-110.8\" font-family=\"Lato\" font-size=\"14.00\">a</text>\n",
       "</g>\n",
       "<!-- 2&#45;&gt;2 -->\n",
       "<g id=\"edge4\" class=\"edge\">\n",
       "<title>2&#45;&gt;2</title>\n",
       "<path fill=\"none\" stroke=\"black\" d=\"M212.09,-126.04C211.13,-135.53 213.43,-144 219,-144 223.09,-144 225.42,-139.43 225.99,-133.25\"/>\n",
       "<polygon fill=\"black\" stroke=\"black\" points=\"225.91,-126.04 229.13,-133.01 225.95,-129.54 225.98,-133.04 225.98,-133.04 225.98,-133.04 225.95,-129.54 222.83,-133.07 225.91,-126.04 225.91,-126.04\"/>\n",
       "<text text-anchor=\"middle\" x=\"219\" y=\"-147.8\" font-family=\"Lato\" font-size=\"14.00\">1</text>\n",
       "</g>\n",
       "<!-- 1&#45;&gt;1 -->\n",
       "<g id=\"edge3\" class=\"edge\">\n",
       "<title>1&#45;&gt;1</title>\n",
       "<path fill=\"none\" stroke=\"black\" d=\"M133.09,-38.04C132.13,-47.53 134.43,-56 140,-56 144.09,-56 146.42,-51.43 146.99,-45.25\"/>\n",
       "<polygon fill=\"black\" stroke=\"black\" points=\"146.91,-38.04 150.13,-45.01 146.95,-41.54 146.98,-45.04 146.98,-45.04 146.98,-45.04 146.95,-41.54 143.83,-45.07 146.91,-38.04 146.91,-38.04\"/>\n",
       "<text text-anchor=\"start\" x=\"136\" y=\"-59.8\" font-family=\"Lato\" font-size=\"14.00\">b</text>\n",
       "</g>\n",
       "</g>\n",
       "</svg>\n"
      ],
      "text/plain": [
       "<spot.twa_graph; proxy of <Swig Object of type 'std::shared_ptr< spot::twa_graph > *' at 0x7faad8057450> >"
      ]
     },
     "metadata": {},
     "output_type": "display_data"
    }
   ],
   "source": [
    "f = spot.formula('(!b&Xa) | Gb')\n",
    "pos = spot.translate(f)\n",
    "spot.highlight_stutter_invariant_states(pos, f, 5)\n",
    "display(pos)"
   ]
  },
  {
   "cell_type": "markdown",
   "metadata": {},
   "source": [
    "The `stutter_invariant_letters()` functions returns a vector of BDDs indexed by state numbers.  The BDD at index $q$ specifies all letters $\\ell$ for which state $q$ would be stuttering.  Note that if $q$ is stutter-invariant or reachable from a stutter-invariant state, the associated BDD will be `bddtrue` (printed as `1` below).\n",
    "\n",
    "This interface is a bit inconveniant to use interactively, due to the fact that we need a `spot.bdd_dict` object to print a BDD."
   ]
  },
  {
   "cell_type": "code",
   "execution_count": 23,
   "metadata": {},
   "outputs": [
    {
     "name": "stdout",
     "output_type": "stream",
     "text": [
      "sil_vec[0] = 1\n",
      "sil_vec[1] = 1\n",
      "sil_vec[2] = 1\n",
      "sil_vec[3] = b\n"
     ]
    }
   ],
   "source": [
    "sil_vec = spot.stutter_invariant_letters(pos, f)\n",
    "for q in range(pos.num_states()):\n",
    "    print(\"sil_vec[{}] =\".format(q), spot.bdd_format_formula(pos.get_dict(), sil_vec[q]))"
   ]
  },
  {
   "cell_type": "markdown",
   "metadata": {},
   "source": [
    "## The set of stutter-invariant states is not always forward closed\n",
    "\n",
    "Consider the following automaton, which is a variant of our second example above.  \n",
    "\n",
    "The language accepted from state (2) is `!GF(a & Xa) & GF!a` (this can be simplified to `FG(!a | X!a)`), while the language accepted from state (0) is `GF(a & Xa) & GF!a`.  Therefore. the language accepted from state (5) is `a & X(GF!a)`.  Since this is equivalent to `a & GF(!a)` state (5) recognizes stutter-invariant language, but as we can see, it is not the case that all states below (5) are also marked.  In fact, states (0) can also be reached via states (7) and (6), recognizing respectively  `(a & X(a & GF!a)) | (!a & X(!a & GF(a & Xa) & GF!a))` and `!a & GF(a & Xa) & GF!a))`, i.e., two stutter-sentive languages."
   ]
  },
  {
   "cell_type": "code",
   "execution_count": 24,
   "metadata": {},
   "outputs": [
    {
     "data": {
      "image/svg+xml": [
       "<?xml version=\"1.0\" encoding=\"UTF-8\" standalone=\"no\"?>\n",
       "<!DOCTYPE svg PUBLIC \"-//W3C//DTD SVG 1.1//EN\"\n",
       " \"http://www.w3.org/Graphics/SVG/1.1/DTD/svg11.dtd\">\n",
       "<!-- Generated by graphviz version 2.43.0 (0)\n",
       " -->\n",
       "<!-- Pages: 1 -->\n",
       "<svg width=\"440pt\" height=\"291pt\"\n",
       " viewBox=\"0.00 0.00 440.00 291.36\" xmlns=\"http://www.w3.org/2000/svg\" xmlns:xlink=\"http://www.w3.org/1999/xlink\">\n",
       "<g id=\"graph0\" class=\"graph\" transform=\"scale(1.0 1.0) rotate(0) translate(4 287.36)\">\n",
       "<polygon fill=\"white\" stroke=\"transparent\" points=\"-4,4 -4,-287.36 436,-287.36 436,4 -4,4\"/>\n",
       "<text text-anchor=\"start\" x=\"170.5\" y=\"-269.16\" font-family=\"Lato\" font-size=\"14.00\">Inf(</text>\n",
       "<text text-anchor=\"start\" x=\"191.5\" y=\"-269.16\" font-family=\"Lato\" font-size=\"14.00\" fill=\"#1f78b4\">⓿</text>\n",
       "<text text-anchor=\"start\" x=\"207.5\" y=\"-269.16\" font-family=\"Lato\" font-size=\"14.00\">)&amp;Inf(</text>\n",
       "<text text-anchor=\"start\" x=\"241.5\" y=\"-269.16\" font-family=\"Lato\" font-size=\"14.00\" fill=\"#ff4da0\">❶</text>\n",
       "<text text-anchor=\"start\" x=\"257.5\" y=\"-269.16\" font-family=\"Lato\" font-size=\"14.00\">)</text>\n",
       "<text text-anchor=\"start\" x=\"173.5\" y=\"-255.16\" font-family=\"Lato\" font-size=\"14.00\">[gen. Büchi 2]</text>\n",
       "<!-- I -->\n",
       "<!-- 7 -->\n",
       "<g id=\"node2\" class=\"node\">\n",
       "<title>7</title>\n",
       "<ellipse fill=\"#ffffaa\" stroke=\"black\" cx=\"56\" cy=\"-46.36\" rx=\"18\" ry=\"18\"/>\n",
       "<text text-anchor=\"middle\" x=\"56\" y=\"-42.66\" font-family=\"Lato\" font-size=\"14.00\">7</text>\n",
       "</g>\n",
       "<!-- I&#45;&gt;7 -->\n",
       "<g id=\"edge1\" class=\"edge\">\n",
       "<title>I&#45;&gt;7</title>\n",
       "<path fill=\"none\" stroke=\"black\" d=\"M1.15,-46.36C2.79,-46.36 17.15,-46.36 30.63,-46.36\"/>\n",
       "<polygon fill=\"black\" stroke=\"black\" points=\"37.94,-46.36 30.94,-49.51 34.44,-46.36 30.94,-46.36 30.94,-46.36 30.94,-46.36 34.44,-46.36 30.94,-43.21 37.94,-46.36 37.94,-46.36\"/>\n",
       "</g>\n",
       "<!-- 5 -->\n",
       "<g id=\"node8\" class=\"node\">\n",
       "<title>5</title>\n",
       "<ellipse fill=\"#ffffaa\" stroke=\"#e31a1c\" stroke-width=\"2\" cx=\"139\" cy=\"-73.36\" rx=\"18\" ry=\"18\"/>\n",
       "<text text-anchor=\"middle\" x=\"139\" y=\"-69.66\" font-family=\"Lato\" font-size=\"14.00\">5</text>\n",
       "</g>\n",
       "<!-- 7&#45;&gt;5 -->\n",
       "<g id=\"edge17\" class=\"edge\">\n",
       "<title>7&#45;&gt;5</title>\n",
       "<path fill=\"none\" stroke=\"black\" d=\"M73.39,-51.82C85.25,-55.77 101.44,-61.17 114.65,-65.57\"/>\n",
       "<polygon fill=\"black\" stroke=\"black\" points=\"121.63,-67.9 114,-68.68 118.31,-66.79 114.99,-65.69 114.99,-65.69 114.99,-65.69 118.31,-66.79 115.99,-62.7 121.63,-67.9 121.63,-67.9\"/>\n",
       "<text text-anchor=\"start\" x=\"94\" y=\"-66.16\" font-family=\"Lato\" font-size=\"14.00\">a</text>\n",
       "</g>\n",
       "<!-- 6 -->\n",
       "<g id=\"node9\" class=\"node\">\n",
       "<title>6</title>\n",
       "<ellipse fill=\"#ffffaa\" stroke=\"black\" cx=\"139\" cy=\"-19.36\" rx=\"18\" ry=\"18\"/>\n",
       "<text text-anchor=\"middle\" x=\"139\" y=\"-15.66\" font-family=\"Lato\" font-size=\"14.00\">6</text>\n",
       "</g>\n",
       "<!-- 7&#45;&gt;6 -->\n",
       "<g id=\"edge16\" class=\"edge\">\n",
       "<title>7&#45;&gt;6</title>\n",
       "<path fill=\"none\" stroke=\"black\" d=\"M72.9,-39.59C78.84,-37.17 85.68,-34.51 92,-32.36 99.19,-29.91 107.12,-27.55 114.33,-25.53\"/>\n",
       "<polygon fill=\"black\" stroke=\"black\" points=\"121.26,-23.63 115.34,-28.52 117.89,-24.56 114.51,-25.48 114.51,-25.48 114.51,-25.48 117.89,-24.56 113.68,-22.45 121.26,-23.63 121.26,-23.63\"/>\n",
       "<text text-anchor=\"start\" x=\"92\" y=\"-36.16\" font-family=\"Lato\" font-size=\"14.00\">!a</text>\n",
       "</g>\n",
       "<!-- 0 -->\n",
       "<g id=\"node3\" class=\"node\">\n",
       "<title>0</title>\n",
       "<ellipse fill=\"#ffffaa\" stroke=\"black\" cx=\"222\" cy=\"-19.36\" rx=\"18\" ry=\"18\"/>\n",
       "<text text-anchor=\"middle\" x=\"222\" y=\"-15.66\" font-family=\"Lato\" font-size=\"14.00\">0</text>\n",
       "</g>\n",
       "<!-- 0&#45;&gt;0 -->\n",
       "<g id=\"edge2\" class=\"edge\">\n",
       "<title>0&#45;&gt;0</title>\n",
       "<path fill=\"none\" stroke=\"black\" d=\"M218.4,-37.14C217.79,-46.67 218.99,-55.36 222,-55.36 224.21,-55.36 225.44,-50.67 225.7,-44.41\"/>\n",
       "<polygon fill=\"black\" stroke=\"black\" points=\"225.6,-37.14 228.85,-44.09 225.65,-40.64 225.7,-44.14 225.7,-44.14 225.7,-44.14 225.65,-40.64 222.55,-44.18 225.6,-37.14 225.6,-37.14\"/>\n",
       "<text text-anchor=\"start\" x=\"216.5\" y=\"-74.16\" font-family=\"Lato\" font-size=\"14.00\">!a</text>\n",
       "<text text-anchor=\"start\" x=\"214\" y=\"-59.16\" font-family=\"Lato\" font-size=\"14.00\" fill=\"#ff4da0\">❶</text>\n",
       "</g>\n",
       "<!-- 0&#45;&gt;0 -->\n",
       "<g id=\"edge3\" class=\"edge\">\n",
       "<title>0&#45;&gt;0</title>\n",
       "<path fill=\"none\" stroke=\"black\" d=\"M216.49,-36.61C212.59,-57.79 214.42,-85.36 222,-85.36 228.75,-85.36 230.94,-63.49 228.58,-43.74\"/>\n",
       "<polygon fill=\"black\" stroke=\"black\" points=\"227.51,-36.61 231.66,-43.06 228.03,-40.07 228.55,-43.53 228.55,-43.53 228.55,-43.53 228.03,-40.07 225.43,-44 227.51,-36.61 227.51,-36.61\"/>\n",
       "<text text-anchor=\"start\" x=\"218.5\" y=\"-89.16\" font-family=\"Lato\" font-size=\"14.00\">a</text>\n",
       "</g>\n",
       "<!-- 1 -->\n",
       "<g id=\"node4\" class=\"node\">\n",
       "<title>1</title>\n",
       "<ellipse fill=\"#ffffaa\" stroke=\"black\" cx=\"310\" cy=\"-21.36\" rx=\"18\" ry=\"18\"/>\n",
       "<text text-anchor=\"middle\" x=\"310\" y=\"-17.66\" font-family=\"Lato\" font-size=\"14.00\">1</text>\n",
       "</g>\n",
       "<!-- 0&#45;&gt;1 -->\n",
       "<g id=\"edge4\" class=\"edge\">\n",
       "<title>0&#45;&gt;1</title>\n",
       "<path fill=\"none\" stroke=\"black\" d=\"M240.4,-19.76C253.19,-20.06 270.73,-20.47 284.87,-20.8\"/>\n",
       "<polygon fill=\"black\" stroke=\"black\" points=\"291.92,-20.96 284.84,-23.95 288.42,-20.88 284.92,-20.8 284.92,-20.8 284.92,-20.8 288.42,-20.88 284.99,-17.65 291.92,-20.96 291.92,-20.96\"/>\n",
       "<text text-anchor=\"start\" x=\"262.5\" y=\"-40.16\" font-family=\"Lato\" font-size=\"14.00\">a</text>\n",
       "<text text-anchor=\"start\" x=\"258\" y=\"-25.16\" font-family=\"Lato\" font-size=\"14.00\" fill=\"#1f78b4\">⓿</text>\n",
       "</g>\n",
       "<!-- 1&#45;&gt;0 -->\n",
       "<g id=\"edge5\" class=\"edge\">\n",
       "<title>1&#45;&gt;0</title>\n",
       "<path fill=\"none\" stroke=\"black\" d=\"M295.09,-11.19C288.95,-7.3 281.44,-3.33 274,-1.36 263.78,1.36 252.67,-1.8 243.45,-6.19\"/>\n",
       "<polygon fill=\"black\" stroke=\"black\" points=\"237.1,-9.54 241.82,-3.49 240.19,-7.91 243.29,-6.28 243.29,-6.28 243.29,-6.28 240.19,-7.91 244.76,-9.06 237.1,-9.54 237.1,-9.54\"/>\n",
       "<text text-anchor=\"start\" x=\"262.5\" y=\"-5.16\" font-family=\"Lato\" font-size=\"14.00\">a</text>\n",
       "</g>\n",
       "<!-- 1&#45;&gt;1 -->\n",
       "<g id=\"edge6\" class=\"edge\">\n",
       "<title>1&#45;&gt;1</title>\n",
       "<path fill=\"none\" stroke=\"black\" d=\"M302.33,-37.65C300.48,-47.75 303.04,-57.36 310,-57.36 315.22,-57.36 317.96,-51.95 318.23,-44.99\"/>\n",
       "<polygon fill=\"black\" stroke=\"black\" points=\"317.67,-37.65 321.34,-44.39 317.93,-41.14 318.2,-44.63 318.2,-44.63 318.2,-44.63 317.93,-41.14 315.06,-44.87 317.67,-37.65 317.67,-37.65\"/>\n",
       "<text text-anchor=\"start\" x=\"306.5\" y=\"-76.16\" font-family=\"Lato\" font-size=\"14.00\">a</text>\n",
       "<text text-anchor=\"start\" x=\"302\" y=\"-61.16\" font-family=\"Lato\" font-size=\"14.00\" fill=\"#1f78b4\">⓿</text>\n",
       "</g>\n",
       "<!-- 2 -->\n",
       "<g id=\"node5\" class=\"node\">\n",
       "<title>2</title>\n",
       "<ellipse fill=\"#ffffaa\" stroke=\"#e31a1c\" stroke-width=\"2\" cx=\"222\" cy=\"-154.36\" rx=\"18\" ry=\"18\"/>\n",
       "<text text-anchor=\"middle\" x=\"222\" y=\"-150.66\" font-family=\"Lato\" font-size=\"14.00\">2</text>\n",
       "</g>\n",
       "<!-- 2&#45;&gt;2 -->\n",
       "<g id=\"edge7\" class=\"edge\">\n",
       "<title>2&#45;&gt;2</title>\n",
       "<path fill=\"none\" stroke=\"black\" d=\"M214.97,-171.02C213.41,-180.98 215.75,-190.36 222,-190.36 226.69,-190.36 229.18,-185.08 229.47,-178.25\"/>\n",
       "<polygon fill=\"black\" stroke=\"black\" points=\"229.03,-171.02 232.6,-177.82 229.24,-174.52 229.46,-178.01 229.46,-178.01 229.46,-178.01 229.24,-174.52 226.31,-178.2 229.03,-171.02 229.03,-171.02\"/>\n",
       "<text text-anchor=\"middle\" x=\"222\" y=\"-194.16\" font-family=\"Lato\" font-size=\"14.00\">1</text>\n",
       "</g>\n",
       "<!-- 3 -->\n",
       "<g id=\"node6\" class=\"node\">\n",
       "<title>3</title>\n",
       "<ellipse fill=\"#ffffaa\" stroke=\"#e31a1c\" stroke-width=\"2\" cx=\"310\" cy=\"-183.36\" rx=\"18\" ry=\"18\"/>\n",
       "<text text-anchor=\"middle\" x=\"310\" y=\"-179.66\" font-family=\"Lato\" font-size=\"14.00\">3</text>\n",
       "</g>\n",
       "<!-- 2&#45;&gt;3 -->\n",
       "<g id=\"edge8\" class=\"edge\">\n",
       "<title>2&#45;&gt;3</title>\n",
       "<path fill=\"none\" stroke=\"black\" d=\"M239.18,-159.81C252.31,-164.24 270.99,-170.54 285.73,-175.51\"/>\n",
       "<polygon fill=\"black\" stroke=\"black\" points=\"292.6,-177.83 284.96,-178.58 289.29,-176.71 285.97,-175.59 285.97,-175.59 285.97,-175.59 289.29,-176.71 286.98,-172.61 292.6,-177.83 292.6,-177.83\"/>\n",
       "<text text-anchor=\"start\" x=\"260.5\" y=\"-175.16\" font-family=\"Lato\" font-size=\"14.00\">!a</text>\n",
       "</g>\n",
       "<!-- 4 -->\n",
       "<g id=\"node7\" class=\"node\">\n",
       "<title>4</title>\n",
       "<ellipse fill=\"#ffffaa\" stroke=\"#e31a1c\" stroke-width=\"2\" cx=\"414\" cy=\"-165.36\" rx=\"18\" ry=\"18\"/>\n",
       "<text text-anchor=\"middle\" x=\"414\" y=\"-161.66\" font-family=\"Lato\" font-size=\"14.00\">4</text>\n",
       "</g>\n",
       "<!-- 2&#45;&gt;4 -->\n",
       "<g id=\"edge9\" class=\"edge\">\n",
       "<title>2&#45;&gt;4</title>\n",
       "<path fill=\"none\" stroke=\"black\" d=\"M239.61,-150.33C253.51,-147.17 273.92,-143.05 292,-141.36 307.93,-139.87 312.15,-139.16 328,-141.36 349.53,-144.34 373.28,-151.38 390.19,-157.07\"/>\n",
       "<polygon fill=\"black\" stroke=\"black\" points=\"396.99,-159.4 389.34,-160.11 393.68,-158.27 390.37,-157.13 390.37,-157.13 390.37,-157.13 393.68,-158.27 391.39,-154.15 396.99,-159.4 396.99,-159.4\"/>\n",
       "<text text-anchor=\"start\" x=\"306.5\" y=\"-145.16\" font-family=\"Lato\" font-size=\"14.00\">a</text>\n",
       "</g>\n",
       "<!-- 3&#45;&gt;3 -->\n",
       "<g id=\"edge10\" class=\"edge\">\n",
       "<title>3&#45;&gt;3</title>\n",
       "<path fill=\"none\" stroke=\"black\" d=\"M302.33,-199.65C300.48,-209.75 303.04,-219.36 310,-219.36 315.22,-219.36 317.96,-213.95 318.23,-206.99\"/>\n",
       "<polygon fill=\"black\" stroke=\"black\" points=\"317.67,-199.65 321.34,-206.39 317.93,-203.14 318.2,-206.63 318.2,-206.63 318.2,-206.63 317.93,-203.14 315.06,-206.87 317.67,-199.65 317.67,-199.65\"/>\n",
       "<text text-anchor=\"start\" x=\"304.5\" y=\"-237.16\" font-family=\"Lato\" font-size=\"14.00\">!a</text>\n",
       "<text text-anchor=\"start\" x=\"294\" y=\"-223.16\" font-family=\"Lato\" font-size=\"14.00\" fill=\"#1f78b4\">⓿</text>\n",
       "<text text-anchor=\"start\" x=\"310\" y=\"-223.16\" font-family=\"Lato\" font-size=\"14.00\" fill=\"#ff4da0\">❶</text>\n",
       "</g>\n",
       "<!-- 3&#45;&gt;4 -->\n",
       "<g id=\"edge11\" class=\"edge\">\n",
       "<title>3&#45;&gt;4</title>\n",
       "<path fill=\"none\" stroke=\"black\" d=\"M325.79,-174.39C331.84,-171.21 339.03,-168.01 346,-166.36 359.91,-163.05 375.9,-162.69 388.77,-163.2\"/>\n",
       "<polygon fill=\"black\" stroke=\"black\" points=\"395.95,-163.59 388.79,-166.36 392.46,-163.4 388.96,-163.21 388.96,-163.21 388.96,-163.21 392.46,-163.4 389.13,-160.07 395.95,-163.59 395.95,-163.59\"/>\n",
       "<text text-anchor=\"start\" x=\"358.5\" y=\"-184.16\" font-family=\"Lato\" font-size=\"14.00\">a</text>\n",
       "<text text-anchor=\"start\" x=\"346\" y=\"-170.16\" font-family=\"Lato\" font-size=\"14.00\" fill=\"#1f78b4\">⓿</text>\n",
       "<text text-anchor=\"start\" x=\"362\" y=\"-170.16\" font-family=\"Lato\" font-size=\"14.00\" fill=\"#ff4da0\">❶</text>\n",
       "</g>\n",
       "<!-- 4&#45;&gt;3 -->\n",
       "<g id=\"edge12\" class=\"edge\">\n",
       "<title>4&#45;&gt;3</title>\n",
       "<path fill=\"none\" stroke=\"black\" d=\"M401.4,-178.5C395.16,-184.57 386.91,-191.15 378,-194.36 363.78,-199.48 346.99,-196.71 333.78,-192.67\"/>\n",
       "<polygon fill=\"black\" stroke=\"black\" points=\"326.84,-190.34 334.48,-189.58 330.16,-191.45 333.48,-192.57 333.48,-192.57 333.48,-192.57 330.16,-191.45 332.47,-195.56 326.84,-190.34 326.84,-190.34\"/>\n",
       "<text text-anchor=\"start\" x=\"356.5\" y=\"-214.16\" font-family=\"Lato\" font-size=\"14.00\">!a</text>\n",
       "<text text-anchor=\"start\" x=\"346\" y=\"-200.16\" font-family=\"Lato\" font-size=\"14.00\" fill=\"#1f78b4\">⓿</text>\n",
       "<text text-anchor=\"start\" x=\"362\" y=\"-200.16\" font-family=\"Lato\" font-size=\"14.00\" fill=\"#ff4da0\">❶</text>\n",
       "</g>\n",
       "<!-- 5&#45;&gt;0 -->\n",
       "<g id=\"edge13\" class=\"edge\">\n",
       "<title>5&#45;&gt;0</title>\n",
       "<path fill=\"none\" stroke=\"black\" d=\"M154.48,-63.7C167.38,-55.1 186.39,-42.43 200.79,-32.83\"/>\n",
       "<polygon fill=\"black\" stroke=\"black\" points=\"206.64,-28.93 202.57,-35.43 203.73,-30.87 200.82,-32.81 200.82,-32.81 200.82,-32.81 203.73,-30.87 199.07,-30.19 206.64,-28.93 206.64,-28.93\"/>\n",
       "<text text-anchor=\"start\" x=\"177\" y=\"-54.16\" font-family=\"Lato\" font-size=\"14.00\">a</text>\n",
       "</g>\n",
       "<!-- 5&#45;&gt;2 -->\n",
       "<g id=\"edge14\" class=\"edge\">\n",
       "<title>5&#45;&gt;2</title>\n",
       "<path fill=\"none\" stroke=\"black\" d=\"M152.3,-85.66C165.98,-99.34 188.18,-121.53 203.62,-136.98\"/>\n",
       "<polygon fill=\"black\" stroke=\"black\" points=\"208.58,-141.94 201.4,-139.22 206.11,-139.46 203.63,-136.99 203.63,-136.99 203.63,-136.99 206.11,-139.46 205.86,-134.76 208.58,-141.94 208.58,-141.94\"/>\n",
       "<text text-anchor=\"start\" x=\"177\" y=\"-122.16\" font-family=\"Lato\" font-size=\"14.00\">a</text>\n",
       "</g>\n",
       "<!-- 6&#45;&gt;0 -->\n",
       "<g id=\"edge15\" class=\"edge\">\n",
       "<title>6&#45;&gt;0</title>\n",
       "<path fill=\"none\" stroke=\"black\" d=\"M157.18,-19.36C168.67,-19.36 183.96,-19.36 196.69,-19.36\"/>\n",
       "<polygon fill=\"black\" stroke=\"black\" points=\"203.85,-19.36 196.85,-22.51 200.35,-19.36 196.85,-19.36 196.85,-19.36 196.85,-19.36 200.35,-19.36 196.85,-16.21 203.85,-19.36 203.85,-19.36\"/>\n",
       "<text text-anchor=\"start\" x=\"175\" y=\"-23.16\" font-family=\"Lato\" font-size=\"14.00\">!a</text>\n",
       "</g>\n",
       "</g>\n",
       "</svg>\n"
      ],
      "text/plain": [
       "<spot.twa_graph; proxy of <Swig Object of type 'std::shared_ptr< spot::twa_graph > *' at 0x7faad816b390> >"
      ]
     },
     "metadata": {},
     "output_type": "display_data"
    }
   ],
   "source": [
    "ex1 = spot.automaton(\"\"\"HOA: v1 \n",
    "States: 8 Start: 7 AP: 1 \"a\" Acceptance: 2 (Inf(0)&Inf(1))\n",
    "--BODY--\n",
    "State: 0 [!0] 0 {1} [0] 0 [0] 1 {0}\n",
    "State: 1 [0] 0 [0] 1 {0}\n",
    "State: 2 [t] 2 [!0] 3 [0] 4\n",
    "State: 3 [!0] 3 {0 1} [0] 4 {0 1}\n",
    "State: 4 [!0] 3 {0 1}\n",
    "State: 5 [0] 0 [0] 2\n",
    "State: 6 [!0] 0\n",
    "State: 7 [!0] 6 [0] 5\n",
    "--END--\"\"\")\n",
    "spot.highlight_stutter_invariant_states(ex1, None, 5)\n",
    "display(ex1)"
   ]
  },
  {
   "cell_type": "markdown",
   "metadata": {},
   "source": [
    "This situation can be tested with `spot.is_stutter_invariant_forward_closed()`.  The function returns `-1` if the successor of any stutter-invariant state is it is also a stutter-invariant state, otherwise it return the number of one stutter-sensitive state that has a stutter-invariant state as predecessor."
   ]
  },
  {
   "cell_type": "code",
   "execution_count": 25,
   "metadata": {},
   "outputs": [
    {
     "data": {
      "text/plain": [
       "0"
      ]
     },
     "execution_count": 25,
     "metadata": {},
     "output_type": "execute_result"
    }
   ],
   "source": [
    "sistates = spot.stutter_invariant_states(ex1)\n",
    "spot.is_stutter_invariant_forward_closed(ex1, sistates)"
   ]
  },
  {
   "cell_type": "markdown",
   "metadata": {},
   "source": [
    "In cases where we prefer to have a forward-closed set of stutter-invariant states, it is always possible to duplicate\n",
    "the problematic states.  The `make_stutter_invariant_foward_closed_inplace()` modifies the automaton in place, and also returns an updated copie of the vector of stutter-invariant states."
   ]
  },
  {
   "cell_type": "code",
   "execution_count": 26,
   "metadata": {},
   "outputs": [
    {
     "data": {
      "image/svg+xml": [
       "<?xml version=\"1.0\" encoding=\"UTF-8\" standalone=\"no\"?>\n",
       "<!DOCTYPE svg PUBLIC \"-//W3C//DTD SVG 1.1//EN\"\n",
       " \"http://www.w3.org/Graphics/SVG/1.1/DTD/svg11.dtd\">\n",
       "<!-- Generated by graphviz version 2.43.0 (0)\n",
       " -->\n",
       "<!-- Pages: 1 -->\n",
       "<svg width=\"389pt\" height=\"360pt\"\n",
       " viewBox=\"0.00 0.00 389.19 360.00\" xmlns=\"http://www.w3.org/2000/svg\" xmlns:xlink=\"http://www.w3.org/1999/xlink\">\n",
       "<g id=\"graph0\" class=\"graph\" transform=\"scale(0.8849557522123894 0.8849557522123894) rotate(0) translate(4 403)\">\n",
       "<polygon fill=\"white\" stroke=\"transparent\" points=\"-4,4 -4,-403 436,-403 436,4 -4,4\"/>\n",
       "<text text-anchor=\"start\" x=\"170.5\" y=\"-384.8\" font-family=\"Lato\" font-size=\"14.00\">Inf(</text>\n",
       "<text text-anchor=\"start\" x=\"191.5\" y=\"-384.8\" font-family=\"Lato\" font-size=\"14.00\" fill=\"#1f78b4\">⓿</text>\n",
       "<text text-anchor=\"start\" x=\"207.5\" y=\"-384.8\" font-family=\"Lato\" font-size=\"14.00\">)&amp;Inf(</text>\n",
       "<text text-anchor=\"start\" x=\"241.5\" y=\"-384.8\" font-family=\"Lato\" font-size=\"14.00\" fill=\"#ff4da0\">❶</text>\n",
       "<text text-anchor=\"start\" x=\"257.5\" y=\"-384.8\" font-family=\"Lato\" font-size=\"14.00\">)</text>\n",
       "<text text-anchor=\"start\" x=\"173.5\" y=\"-370.8\" font-family=\"Lato\" font-size=\"14.00\">[gen. Büchi 2]</text>\n",
       "<!-- I -->\n",
       "<!-- 7 -->\n",
       "<g id=\"node2\" class=\"node\">\n",
       "<title>7</title>\n",
       "<ellipse fill=\"#ffffaa\" stroke=\"black\" cx=\"56\" cy=\"-108\" rx=\"18\" ry=\"18\"/>\n",
       "<text text-anchor=\"middle\" x=\"56\" y=\"-104.3\" font-family=\"Lato\" font-size=\"14.00\">7</text>\n",
       "</g>\n",
       "<!-- I&#45;&gt;7 -->\n",
       "<g id=\"edge1\" class=\"edge\">\n",
       "<title>I&#45;&gt;7</title>\n",
       "<path fill=\"none\" stroke=\"black\" d=\"M1.15,-108C2.79,-108 17.15,-108 30.63,-108\"/>\n",
       "<polygon fill=\"black\" stroke=\"black\" points=\"37.94,-108 30.94,-111.15 34.44,-108 30.94,-108 30.94,-108 30.94,-108 34.44,-108 30.94,-104.85 37.94,-108 37.94,-108\"/>\n",
       "</g>\n",
       "<!-- 5 -->\n",
       "<g id=\"node8\" class=\"node\">\n",
       "<title>5</title>\n",
       "<ellipse fill=\"#ffffaa\" stroke=\"#e31a1c\" stroke-width=\"2\" cx=\"139\" cy=\"-155\" rx=\"18\" ry=\"18\"/>\n",
       "<text text-anchor=\"middle\" x=\"139\" y=\"-151.3\" font-family=\"Lato\" font-size=\"14.00\">5</text>\n",
       "</g>\n",
       "<!-- 7&#45;&gt;5 -->\n",
       "<g id=\"edge17\" class=\"edge\">\n",
       "<title>7&#45;&gt;5</title>\n",
       "<path fill=\"none\" stroke=\"black\" d=\"M71.86,-116.62C84.45,-123.93 102.67,-134.5 116.79,-142.7\"/>\n",
       "<polygon fill=\"black\" stroke=\"black\" points=\"122.96,-146.27 115.33,-145.49 119.94,-144.52 116.91,-142.76 116.91,-142.76 116.91,-142.76 119.94,-144.52 118.49,-140.04 122.96,-146.27 122.96,-146.27\"/>\n",
       "<text text-anchor=\"start\" x=\"94\" y=\"-138.8\" font-family=\"Lato\" font-size=\"14.00\">a</text>\n",
       "</g>\n",
       "<!-- 6 -->\n",
       "<g id=\"node10\" class=\"node\">\n",
       "<title>6</title>\n",
       "<ellipse fill=\"#ffffaa\" stroke=\"black\" cx=\"139\" cy=\"-81\" rx=\"18\" ry=\"18\"/>\n",
       "<text text-anchor=\"middle\" x=\"139\" y=\"-77.3\" font-family=\"Lato\" font-size=\"14.00\">6</text>\n",
       "</g>\n",
       "<!-- 7&#45;&gt;6 -->\n",
       "<g id=\"edge16\" class=\"edge\">\n",
       "<title>7&#45;&gt;6</title>\n",
       "<path fill=\"none\" stroke=\"black\" d=\"M72.9,-101.23C78.84,-98.81 85.68,-96.15 92,-94 99.19,-91.55 107.12,-89.2 114.33,-87.18\"/>\n",
       "<polygon fill=\"black\" stroke=\"black\" points=\"121.26,-85.28 115.34,-90.16 117.89,-86.2 114.51,-87.13 114.51,-87.13 114.51,-87.13 117.89,-86.2 113.68,-84.09 121.26,-85.28 121.26,-85.28\"/>\n",
       "<text text-anchor=\"start\" x=\"92\" y=\"-97.8\" font-family=\"Lato\" font-size=\"14.00\">!a</text>\n",
       "</g>\n",
       "<!-- 0 -->\n",
       "<g id=\"node3\" class=\"node\">\n",
       "<title>0</title>\n",
       "<ellipse fill=\"#ffffaa\" stroke=\"black\" cx=\"222\" cy=\"-20\" rx=\"18\" ry=\"18\"/>\n",
       "<text text-anchor=\"middle\" x=\"222\" y=\"-16.3\" font-family=\"Lato\" font-size=\"14.00\">0</text>\n",
       "</g>\n",
       "<!-- 0&#45;&gt;0 -->\n",
       "<g id=\"edge2\" class=\"edge\">\n",
       "<title>0&#45;&gt;0</title>\n",
       "<path fill=\"none\" stroke=\"black\" d=\"M218.4,-37.78C217.79,-47.31 218.99,-56 222,-56 224.21,-56 225.44,-51.32 225.7,-45.05\"/>\n",
       "<polygon fill=\"black\" stroke=\"black\" points=\"225.6,-37.78 228.85,-44.74 225.65,-41.28 225.7,-44.78 225.7,-44.78 225.7,-44.78 225.65,-41.28 222.55,-44.83 225.6,-37.78 225.6,-37.78\"/>\n",
       "<text text-anchor=\"start\" x=\"216.5\" y=\"-74.8\" font-family=\"Lato\" font-size=\"14.00\">!a</text>\n",
       "<text text-anchor=\"start\" x=\"214\" y=\"-59.8\" font-family=\"Lato\" font-size=\"14.00\" fill=\"#ff4da0\">❶</text>\n",
       "</g>\n",
       "<!-- 0&#45;&gt;0 -->\n",
       "<g id=\"edge3\" class=\"edge\">\n",
       "<title>0&#45;&gt;0</title>\n",
       "<path fill=\"none\" stroke=\"black\" d=\"M216.49,-37.25C212.59,-58.43 214.42,-86 222,-86 228.75,-86 230.94,-64.13 228.58,-44.39\"/>\n",
       "<polygon fill=\"black\" stroke=\"black\" points=\"227.51,-37.25 231.66,-43.7 228.03,-40.71 228.55,-44.17 228.55,-44.17 228.55,-44.17 228.03,-40.71 225.43,-44.64 227.51,-37.25 227.51,-37.25\"/>\n",
       "<text text-anchor=\"start\" x=\"218.5\" y=\"-89.8\" font-family=\"Lato\" font-size=\"14.00\">a</text>\n",
       "</g>\n",
       "<!-- 1 -->\n",
       "<g id=\"node4\" class=\"node\">\n",
       "<title>1</title>\n",
       "<ellipse fill=\"#ffffaa\" stroke=\"black\" cx=\"310\" cy=\"-18\" rx=\"18\" ry=\"18\"/>\n",
       "<text text-anchor=\"middle\" x=\"310\" y=\"-14.3\" font-family=\"Lato\" font-size=\"14.00\">1</text>\n",
       "</g>\n",
       "<!-- 0&#45;&gt;1 -->\n",
       "<g id=\"edge4\" class=\"edge\">\n",
       "<title>0&#45;&gt;1</title>\n",
       "<path fill=\"none\" stroke=\"black\" d=\"M240,-23.34C249.92,-24.87 262.67,-26.12 274,-25 277.68,-24.64 281.55,-24.06 285.32,-23.39\"/>\n",
       "<polygon fill=\"black\" stroke=\"black\" points=\"292.37,-22.02 286.09,-26.45 288.93,-22.69 285.49,-23.36 285.49,-23.36 285.49,-23.36 288.93,-22.69 284.89,-20.27 292.37,-22.02 292.37,-22.02\"/>\n",
       "<text text-anchor=\"start\" x=\"262.5\" y=\"-44.8\" font-family=\"Lato\" font-size=\"14.00\">a</text>\n",
       "<text text-anchor=\"start\" x=\"258\" y=\"-29.8\" font-family=\"Lato\" font-size=\"14.00\" fill=\"#1f78b4\">⓿</text>\n",
       "</g>\n",
       "<!-- 1&#45;&gt;0 -->\n",
       "<g id=\"edge5\" class=\"edge\">\n",
       "<title>1&#45;&gt;0</title>\n",
       "<path fill=\"none\" stroke=\"black\" d=\"M293.45,-10.85C283.38,-7.09 269.97,-3.7 258,-6 253.8,-6.81 249.46,-8.12 245.34,-9.62\"/>\n",
       "<polygon fill=\"black\" stroke=\"black\" points=\"238.64,-12.27 243.99,-6.76 241.9,-10.98 245.15,-9.69 245.15,-9.69 245.15,-9.69 241.9,-10.98 246.31,-12.62 238.64,-12.27 238.64,-12.27\"/>\n",
       "<text text-anchor=\"start\" x=\"262.5\" y=\"-9.8\" font-family=\"Lato\" font-size=\"14.00\">a</text>\n",
       "</g>\n",
       "<!-- 1&#45;&gt;1 -->\n",
       "<g id=\"edge6\" class=\"edge\">\n",
       "<title>1&#45;&gt;1</title>\n",
       "<path fill=\"none\" stroke=\"black\" d=\"M302.33,-34.29C300.48,-44.39 303.04,-54 310,-54 315.22,-54 317.96,-48.59 318.23,-41.63\"/>\n",
       "<polygon fill=\"black\" stroke=\"black\" points=\"317.67,-34.29 321.34,-41.03 317.93,-37.78 318.2,-41.27 318.2,-41.27 318.2,-41.27 317.93,-37.78 315.06,-41.51 317.67,-34.29 317.67,-34.29\"/>\n",
       "<text text-anchor=\"start\" x=\"306.5\" y=\"-72.8\" font-family=\"Lato\" font-size=\"14.00\">a</text>\n",
       "<text text-anchor=\"start\" x=\"302\" y=\"-57.8\" font-family=\"Lato\" font-size=\"14.00\" fill=\"#1f78b4\">⓿</text>\n",
       "</g>\n",
       "<!-- 2 -->\n",
       "<g id=\"node5\" class=\"node\">\n",
       "<title>2</title>\n",
       "<ellipse fill=\"#ffffaa\" stroke=\"#e31a1c\" stroke-width=\"2\" cx=\"222\" cy=\"-290\" rx=\"18\" ry=\"18\"/>\n",
       "<text text-anchor=\"middle\" x=\"222\" y=\"-286.3\" font-family=\"Lato\" font-size=\"14.00\">2</text>\n",
       "</g>\n",
       "<!-- 2&#45;&gt;2 -->\n",
       "<g id=\"edge7\" class=\"edge\">\n",
       "<title>2&#45;&gt;2</title>\n",
       "<path fill=\"none\" stroke=\"black\" d=\"M214.97,-306.66C213.41,-316.62 215.75,-326 222,-326 226.69,-326 229.18,-320.73 229.47,-313.89\"/>\n",
       "<polygon fill=\"black\" stroke=\"black\" points=\"229.03,-306.66 232.6,-313.46 229.24,-310.16 229.46,-313.65 229.46,-313.65 229.46,-313.65 229.24,-310.16 226.31,-313.84 229.03,-306.66 229.03,-306.66\"/>\n",
       "<text text-anchor=\"middle\" x=\"222\" y=\"-329.8\" font-family=\"Lato\" font-size=\"14.00\">1</text>\n",
       "</g>\n",
       "<!-- 3 -->\n",
       "<g id=\"node6\" class=\"node\">\n",
       "<title>3</title>\n",
       "<ellipse fill=\"#ffffaa\" stroke=\"#e31a1c\" stroke-width=\"2\" cx=\"310\" cy=\"-299\" rx=\"18\" ry=\"18\"/>\n",
       "<text text-anchor=\"middle\" x=\"310\" y=\"-295.3\" font-family=\"Lato\" font-size=\"14.00\">3</text>\n",
       "</g>\n",
       "<!-- 2&#45;&gt;3 -->\n",
       "<g id=\"edge8\" class=\"edge\">\n",
       "<title>2&#45;&gt;3</title>\n",
       "<path fill=\"none\" stroke=\"black\" d=\"M239.99,-291.78C252.83,-293.12 270.62,-294.98 284.93,-296.48\"/>\n",
       "<polygon fill=\"black\" stroke=\"black\" points=\"292.04,-297.23 284.75,-299.63 288.56,-296.86 285.08,-296.5 285.08,-296.5 285.08,-296.5 288.56,-296.86 285.41,-293.36 292.04,-297.23 292.04,-297.23\"/>\n",
       "<text text-anchor=\"start\" x=\"260.5\" y=\"-298.8\" font-family=\"Lato\" font-size=\"14.00\">!a</text>\n",
       "</g>\n",
       "<!-- 4 -->\n",
       "<g id=\"node7\" class=\"node\">\n",
       "<title>4</title>\n",
       "<ellipse fill=\"#ffffaa\" stroke=\"#e31a1c\" stroke-width=\"2\" cx=\"414\" cy=\"-281\" rx=\"18\" ry=\"18\"/>\n",
       "<text text-anchor=\"middle\" x=\"414\" y=\"-277.3\" font-family=\"Lato\" font-size=\"14.00\">4</text>\n",
       "</g>\n",
       "<!-- 2&#45;&gt;4 -->\n",
       "<g id=\"edge9\" class=\"edge\">\n",
       "<title>2&#45;&gt;4</title>\n",
       "<path fill=\"none\" stroke=\"black\" d=\"M237.64,-280.61C251.14,-272.55 272.06,-261.52 292,-257 326.22,-249.24 366.19,-261.24 390.55,-270.89\"/>\n",
       "<polygon fill=\"black\" stroke=\"black\" points=\"397.28,-273.66 389.61,-273.91 394.04,-272.33 390.8,-270.99 390.8,-270.99 390.8,-270.99 394.04,-272.33 392,-268.08 397.28,-273.66 397.28,-273.66\"/>\n",
       "<text text-anchor=\"start\" x=\"306.5\" y=\"-260.8\" font-family=\"Lato\" font-size=\"14.00\">a</text>\n",
       "</g>\n",
       "<!-- 3&#45;&gt;3 -->\n",
       "<g id=\"edge10\" class=\"edge\">\n",
       "<title>3&#45;&gt;3</title>\n",
       "<path fill=\"none\" stroke=\"black\" d=\"M302.33,-315.29C300.48,-325.39 303.04,-335 310,-335 315.22,-335 317.96,-329.59 318.23,-322.63\"/>\n",
       "<polygon fill=\"black\" stroke=\"black\" points=\"317.67,-315.29 321.34,-322.03 317.93,-318.78 318.2,-322.27 318.2,-322.27 318.2,-322.27 317.93,-318.78 315.06,-322.51 317.67,-315.29 317.67,-315.29\"/>\n",
       "<text text-anchor=\"start\" x=\"304.5\" y=\"-352.8\" font-family=\"Lato\" font-size=\"14.00\">!a</text>\n",
       "<text text-anchor=\"start\" x=\"294\" y=\"-338.8\" font-family=\"Lato\" font-size=\"14.00\" fill=\"#1f78b4\">⓿</text>\n",
       "<text text-anchor=\"start\" x=\"310\" y=\"-338.8\" font-family=\"Lato\" font-size=\"14.00\" fill=\"#ff4da0\">❶</text>\n",
       "</g>\n",
       "<!-- 3&#45;&gt;4 -->\n",
       "<g id=\"edge11\" class=\"edge\">\n",
       "<title>3&#45;&gt;4</title>\n",
       "<path fill=\"none\" stroke=\"black\" d=\"M326.84,-305.98C340.68,-311.06 361.14,-316.08 378,-310 384.54,-307.64 390.73,-303.47 396.03,-299.01\"/>\n",
       "<polygon fill=\"black\" stroke=\"black\" points=\"401.4,-294.14 398.33,-301.17 398.81,-296.49 396.22,-298.84 396.22,-298.84 396.22,-298.84 398.81,-296.49 394.1,-296.51 401.4,-294.14 401.4,-294.14\"/>\n",
       "<text text-anchor=\"start\" x=\"358.5\" y=\"-329.8\" font-family=\"Lato\" font-size=\"14.00\">a</text>\n",
       "<text text-anchor=\"start\" x=\"346\" y=\"-315.8\" font-family=\"Lato\" font-size=\"14.00\" fill=\"#1f78b4\">⓿</text>\n",
       "<text text-anchor=\"start\" x=\"362\" y=\"-315.8\" font-family=\"Lato\" font-size=\"14.00\" fill=\"#ff4da0\">❶</text>\n",
       "</g>\n",
       "<!-- 4&#45;&gt;3 -->\n",
       "<g id=\"edge12\" class=\"edge\">\n",
       "<title>4&#45;&gt;3</title>\n",
       "<path fill=\"none\" stroke=\"black\" d=\"M396.15,-277.39C382.41,-275.12 362.61,-273.4 346,-278 340.84,-279.43 335.67,-281.85 330.95,-284.55\"/>\n",
       "<polygon fill=\"black\" stroke=\"black\" points=\"324.84,-288.33 329.13,-281.97 327.81,-286.49 330.79,-284.65 330.79,-284.65 330.79,-284.65 327.81,-286.49 332.45,-287.32 324.84,-288.33 324.84,-288.33\"/>\n",
       "<text text-anchor=\"start\" x=\"356.5\" y=\"-295.8\" font-family=\"Lato\" font-size=\"14.00\">!a</text>\n",
       "<text text-anchor=\"start\" x=\"346\" y=\"-281.8\" font-family=\"Lato\" font-size=\"14.00\" fill=\"#1f78b4\">⓿</text>\n",
       "<text text-anchor=\"start\" x=\"362\" y=\"-281.8\" font-family=\"Lato\" font-size=\"14.00\" fill=\"#ff4da0\">❶</text>\n",
       "</g>\n",
       "<!-- 5&#45;&gt;2 -->\n",
       "<g id=\"edge14\" class=\"edge\">\n",
       "<title>5&#45;&gt;2</title>\n",
       "<path fill=\"none\" stroke=\"black\" d=\"M148.98,-170.46C161.25,-191.49 184,-230.27 204,-263 205.21,-264.99 206.49,-267.05 207.77,-269.1\"/>\n",
       "<polygon fill=\"black\" stroke=\"black\" points=\"211.58,-275.19 205.19,-270.93 209.72,-272.22 207.86,-269.26 207.86,-269.26 207.86,-269.26 209.72,-272.22 210.53,-267.59 211.58,-275.19 211.58,-275.19\"/>\n",
       "<text text-anchor=\"start\" x=\"177\" y=\"-233.8\" font-family=\"Lato\" font-size=\"14.00\">a</text>\n",
       "</g>\n",
       "<!-- 8 -->\n",
       "<g id=\"node9\" class=\"node\">\n",
       "<title>8</title>\n",
       "<ellipse fill=\"#ffffaa\" stroke=\"#e31a1c\" stroke-width=\"2\" cx=\"222\" cy=\"-155\" rx=\"18\" ry=\"18\"/>\n",
       "<text text-anchor=\"middle\" x=\"222\" y=\"-151.3\" font-family=\"Lato\" font-size=\"14.00\">8</text>\n",
       "</g>\n",
       "<!-- 5&#45;&gt;8 -->\n",
       "<g id=\"edge13\" class=\"edge\">\n",
       "<title>5&#45;&gt;8</title>\n",
       "<path fill=\"none\" stroke=\"black\" d=\"M157.18,-155C168.67,-155 183.96,-155 196.69,-155\"/>\n",
       "<polygon fill=\"black\" stroke=\"black\" points=\"203.85,-155 196.85,-158.15 200.35,-155 196.85,-155 196.85,-155 196.85,-155 200.35,-155 196.85,-151.85 203.85,-155 203.85,-155\"/>\n",
       "<text text-anchor=\"start\" x=\"177\" y=\"-158.8\" font-family=\"Lato\" font-size=\"14.00\">a</text>\n",
       "</g>\n",
       "<!-- 8&#45;&gt;8 -->\n",
       "<g id=\"edge18\" class=\"edge\">\n",
       "<title>8&#45;&gt;8</title>\n",
       "<path fill=\"none\" stroke=\"black\" d=\"M218.4,-172.78C217.79,-182.31 218.99,-191 222,-191 224.21,-191 225.44,-186.32 225.7,-180.05\"/>\n",
       "<polygon fill=\"black\" stroke=\"black\" points=\"225.6,-172.78 228.85,-179.74 225.65,-176.28 225.7,-179.78 225.7,-179.78 225.7,-179.78 225.65,-176.28 222.55,-179.83 225.6,-172.78 225.6,-172.78\"/>\n",
       "<text text-anchor=\"start\" x=\"216.5\" y=\"-209.8\" font-family=\"Lato\" font-size=\"14.00\">!a</text>\n",
       "<text text-anchor=\"start\" x=\"214\" y=\"-194.8\" font-family=\"Lato\" font-size=\"14.00\" fill=\"#ff4da0\">❶</text>\n",
       "</g>\n",
       "<!-- 8&#45;&gt;8 -->\n",
       "<g id=\"edge19\" class=\"edge\">\n",
       "<title>8&#45;&gt;8</title>\n",
       "<path fill=\"none\" stroke=\"black\" d=\"M216.49,-172.25C212.59,-193.43 214.42,-221 222,-221 228.75,-221 230.94,-199.13 228.58,-179.39\"/>\n",
       "<polygon fill=\"black\" stroke=\"black\" points=\"227.51,-172.25 231.66,-178.7 228.03,-175.71 228.55,-179.17 228.55,-179.17 228.55,-179.17 228.03,-175.71 225.43,-179.64 227.51,-172.25 227.51,-172.25\"/>\n",
       "<text text-anchor=\"start\" x=\"218.5\" y=\"-224.8\" font-family=\"Lato\" font-size=\"14.00\">a</text>\n",
       "</g>\n",
       "<!-- 9 -->\n",
       "<g id=\"node11\" class=\"node\">\n",
       "<title>9</title>\n",
       "<ellipse fill=\"#ffffaa\" stroke=\"#e31a1c\" stroke-width=\"2\" cx=\"310\" cy=\"-137\" rx=\"18\" ry=\"18\"/>\n",
       "<text text-anchor=\"middle\" x=\"310\" y=\"-133.3\" font-family=\"Lato\" font-size=\"14.00\">9</text>\n",
       "</g>\n",
       "<!-- 8&#45;&gt;9 -->\n",
       "<g id=\"edge20\" class=\"edge\">\n",
       "<title>8&#45;&gt;9</title>\n",
       "<path fill=\"none\" stroke=\"black\" d=\"M239.99,-151.44C252.91,-148.74 270.86,-144.98 285.21,-141.98\"/>\n",
       "<polygon fill=\"black\" stroke=\"black\" points=\"292.34,-140.49 286.13,-145 288.91,-141.2 285.49,-141.92 285.49,-141.92 285.49,-141.92 288.91,-141.2 284.84,-138.84 292.34,-140.49 292.34,-140.49\"/>\n",
       "<text text-anchor=\"start\" x=\"262.5\" y=\"-166.8\" font-family=\"Lato\" font-size=\"14.00\">a</text>\n",
       "<text text-anchor=\"start\" x=\"258\" y=\"-151.8\" font-family=\"Lato\" font-size=\"14.00\" fill=\"#1f78b4\">⓿</text>\n",
       "</g>\n",
       "<!-- 6&#45;&gt;0 -->\n",
       "<g id=\"edge15\" class=\"edge\">\n",
       "<title>6&#45;&gt;0</title>\n",
       "<path fill=\"none\" stroke=\"black\" d=\"M153.74,-70.65C166.77,-60.84 186.5,-45.98 201.22,-34.89\"/>\n",
       "<polygon fill=\"black\" stroke=\"black\" points=\"207.19,-30.4 203.5,-37.13 204.4,-32.5 201.6,-34.61 201.6,-34.61 201.6,-34.61 204.4,-32.5 199.71,-32.09 207.19,-30.4 207.19,-30.4\"/>\n",
       "<text text-anchor=\"start\" x=\"175\" y=\"-58.8\" font-family=\"Lato\" font-size=\"14.00\">!a</text>\n",
       "</g>\n",
       "<!-- 9&#45;&gt;8 -->\n",
       "<g id=\"edge21\" class=\"edge\">\n",
       "<title>9&#45;&gt;8</title>\n",
       "<path fill=\"none\" stroke=\"black\" d=\"M293.53,-129.26C283.26,-125.19 269.59,-121.82 258,-126 251.46,-128.36 245.27,-132.53 239.97,-136.99\"/>\n",
       "<polygon fill=\"black\" stroke=\"black\" points=\"234.6,-141.86 237.67,-134.83 237.19,-139.51 239.78,-137.16 239.78,-137.16 239.78,-137.16 237.19,-139.51 241.9,-139.49 234.6,-141.86 234.6,-141.86\"/>\n",
       "<text text-anchor=\"start\" x=\"262.5\" y=\"-129.8\" font-family=\"Lato\" font-size=\"14.00\">a</text>\n",
       "</g>\n",
       "<!-- 9&#45;&gt;9 -->\n",
       "<g id=\"edge22\" class=\"edge\">\n",
       "<title>9&#45;&gt;9</title>\n",
       "<path fill=\"none\" stroke=\"black\" d=\"M302.33,-153.29C300.48,-163.39 303.04,-173 310,-173 315.22,-173 317.96,-167.59 318.23,-160.63\"/>\n",
       "<polygon fill=\"black\" stroke=\"black\" points=\"317.67,-153.29 321.34,-160.03 317.93,-156.78 318.2,-160.27 318.2,-160.27 318.2,-160.27 317.93,-156.78 315.06,-160.51 317.67,-153.29 317.67,-153.29\"/>\n",
       "<text text-anchor=\"start\" x=\"306.5\" y=\"-191.8\" font-family=\"Lato\" font-size=\"14.00\">a</text>\n",
       "<text text-anchor=\"start\" x=\"302\" y=\"-176.8\" font-family=\"Lato\" font-size=\"14.00\" fill=\"#1f78b4\">⓿</text>\n",
       "</g>\n",
       "</g>\n",
       "</svg>\n"
      ],
      "text/plain": [
       "<spot.twa_graph; proxy of <Swig Object of type 'std::shared_ptr< spot::twa_graph > *' at 0x7faad816b390> >"
      ]
     },
     "metadata": {},
     "output_type": "display_data"
    },
    {
     "name": "stdout",
     "output_type": "stream",
     "text": [
      "(False, False, True, True, True, True, False, False, True, True)\n"
     ]
    }
   ],
   "source": [
    "sistates2 = spot.make_stutter_invariant_forward_closed_inplace(ex1, sistates)\n",
    "spot.highlight_stutter_invariant_states(ex1, None, 5)\n",
    "display(ex1)\n",
    "print(sistates2)"
   ]
  },
  {
   "cell_type": "markdown",
   "metadata": {},
   "source": [
    "Now, state 0 is no longuer a problem."
   ]
  },
  {
   "cell_type": "code",
   "execution_count": 27,
   "metadata": {},
   "outputs": [
    {
     "data": {
      "text/plain": [
       "-1"
      ]
     },
     "execution_count": 27,
     "metadata": {},
     "output_type": "execute_result"
    }
   ],
   "source": [
    "spot.is_stutter_invariant_forward_closed(ex1, sistates2)"
   ]
  },
  {
   "cell_type": "markdown",
   "metadata": {},
   "source": [
    "Let's see how infrequently the set of stutter-invarant states is not closed."
   ]
  },
  {
   "cell_type": "code",
   "execution_count": 28,
   "metadata": {},
   "outputs": [],
   "source": [
    "import spot.gen as gen"
   ]
  },
  {
   "cell_type": "code",
   "execution_count": 29,
   "metadata": {
    "scrolled": false
   },
   "outputs": [
    {
     "name": "stdout",
     "output_type": "stream",
     "text": [
      "formula                                  states SIstates fwd_closed\n",
      "Fp0 -> (!p0 U (!p0 & p1 & X(!p0 U p2)))       3        2          1\n",
      "Fp0 -> (!p1 U (p0 | (!p1 & p2 & X(!p1 U       4        3          1\n",
      "G!p0 | (!p0 U ((p0 & Fp1) -> (!p1 U (!p1      4        2          1\n",
      "G((p0 & Fp1) -> (!p2 U (p1 | (!p2 & p3 &      4        1          1\n",
      "G(p0 -> (Fp1 -> (!p1 U (p2 | (!p1 & p3 &      3        0          1\n",
      "F(p0 & XFp1) -> (!p0 U p2)                    3        2          1\n",
      "Fp0 -> (!(!p0 & p1 & X(!p0 U (!p0 & p2))      4        3          1\n",
      "G!p0 | (!p0 U (p0 & (F(p1 & XFp2) -> (!p      4        2          1\n",
      "G((p0 & Fp1) -> (!(!p1 & p2 & X(!p1 U (!      4        1          1\n",
      "G(p0 -> ((!(!p1 & p2 & X(!p1 U (!p1 & p3      3        0          1\n",
      "G((p0 & XFp1) -> XF(p1 & Fp2))                4        0          1\n",
      "Fp0 -> (((p1 & X(!p0 U p2)) -> X(!p0 U (      6        2          1\n",
      "G(p0 -> G((p1 & XFp2) -> X(!p2 U (p2 & F      5        0          1\n",
      "G((p0 & Fp1) -> (((p2 & X(!p1 U p3)) ->      10        2          1\n",
      "G(p0 -> (((p1 & X(!p2 U p3)) -> X(!p2 U      10        0          1\n",
      "G(p0 -> F(p1 & XFp2))                         4        0          1\n",
      "Fp0 -> ((p1 -> (!p0 U (!p0 & p2 & X(!p0       4        1          1\n",
      "G(p0 -> G(p1 -> (p2 & XFp3)))                 3        3          1\n",
      "G((p0 & Fp1) -> ((p2 -> (!p1 U (!p1 & p3      4        0          1\n",
      "G(p0 -> ((p1 -> (!p2 U (!p2 & p3 & X(!p2      6        2          1\n",
      "G(p0 -> F(p1 & !p2 & X(!p2 U p3)))            4        0          1\n",
      "Fp0 -> ((p1 -> (!p0 U (!p0 & p2 & !p3 &       4        1          1\n",
      "G(p0 -> G(p1 -> (p2 & !p3 & X(!p3 U p4))      3        3          1\n",
      "G((p0 & Fp1) -> ((p2 -> (!p1 U (!p1 & p3      4        0          1\n",
      "G(p0 -> ((p1 -> (!p2 U (!p2 & p3 & !p4 &      6        2          1\n",
      "p0 U (p1 & X(p2 U p3))                        3        2          1\n",
      "p0 U (p1 & X(p2 & F(p3 & XF(p4 & XF(p5 &      7        2          1\n",
      "F(p0 & XGp1)                                  2        2          1\n",
      "F(p0 & X(p1 & XFp2))                          4        2          1\n",
      "F(p0 & X(p1 U p2))                            3        1          1\n",
      "G(p0 & XF(p1 & XF(p2 & XFp3)))                1        1          1\n",
      "GF(!(p1 <-> Xp1) | !(p0 <-> Xp0))             4        4          1\n",
      "GF(!(p1 <-> Xp1) | !(p0 <-> Xp0) | !(p2       9        9          1\n",
      "G((p0 & p1 & !p2 & Xp2) -> X(p3 | X(!p1       3        0          1\n",
      "G((p0 & p1 & !p2 & Xp2) -> X(X!p1 | (p2       5        5          1\n",
      "G(p0 & p1 & !p2 & Xp2) -> X(X!p1 | (p2 U      1        1          1\n",
      "G((!p0 & p1) -> Xp2)                          2        0          1\n",
      "G(p0 -> X(p0 | p1))                           2        2          1\n",
      "G((!(p1 <-> Xp1) | !(p0 <-> Xp0) | !(p2      34       34          1\n",
      "G((p0 & !p1 & Xp1 & Xp0) -> (p2 -> Xp3))      2        2          1\n",
      "G(p0 -> X(!p0 U p1))                          2        0          1\n",
      "G((!p0 & Xp0) -> X((p0 U p1) | Gp0))          3        3          1\n",
      "G((!p0 & Xp0) -> X(p0 U (p0 & !p1 & X(p0      4        4          1\n",
      "G((!p0 & Xp0) -> X(p0 U (p0 & !p1 & X(p0      6        6          1\n",
      "G((p0 & X!p0) -> X(!p0 U (!p0 & !p1 & X(      6        6          1\n",
      "G((p0 & X!p0) -> X(!p0 U (!p0 & !p1 & X(      8        8          1\n",
      "G((!p0 & Xp0) -> X(!(!p0 & Xp0) U (!p1 &      6        6          1\n",
      "G(!p0 | X(!p0 | X(!p0 | X(!p0 | X(!p0 |      12        0          1\n",
      "G((Xp0 -> p0) -> (p1 <-> Xp1))                4        4          1\n",
      "G((Xp0 -> p0) -> ((p1 -> Xp1) & (!p1 ->       4        4          1\n",
      "p0 & XG!p0                                    2        1          1\n",
      "XG(p0 -> (G!p1 | (!Xp1 U p2)))                4        1          1\n",
      "XG((p0 & !p1) -> (G!p1 | (!p1 U p2)))         3        2          1\n",
      "XG((p0 & p1) -> (Gp1 | (p1 U p2)))            3        2          1\n",
      "Xp0 & G((!p0 & Xp0) -> XXp0)                  5        0          1\n",
      "(Xp0 U Xp1) | !X(p0 U p1)                     1        1          1\n",
      "(Xp0 U p1) | !X(p0 U (p0 & p1))               1        1          1\n",
      "((Xp0 U p1) | !X(p0 U (p0 & p1))) & G(p0      2        2          1\n",
      "((Xp0 U Xp1) | !X(p0 U p1)) & G(p0 -> Fp      2        2          1\n",
      "!G(p0 -> X(p1 R p2))                          3        1          1\n",
      "(p0 & Xp1) R X(((p2 U p3) R p0) U (p2 R       5        3          1\n",
      "G(p0 | XGp1) & G(p2 | XG!p1)                  3        2          1\n",
      "G(p0 | (Xp1 & X!p1))                          1        1          1\n"
     ]
    }
   ],
   "source": [
    "# Let's consider the LTL formula from the following 5 sources,\n",
    "# and restrict ourselves to formulas that are not stutter-invariant.\n",
    "formulas = [ f for f in gen.ltl_patterns(gen.LTL_DAC_PATTERNS, \n",
    "                                         gen.LTL_EH_PATTERNS, \n",
    "                                         gen.LTL_HKRSS_PATTERNS, \n",
    "                                         gen.LTL_P_PATTERNS, \n",
    "                                         gen.LTL_SB_PATTERNS)\n",
    "            if not f.is_syntactic_stutter_invariant() ]\n",
    "\n",
    "aut_size = []\n",
    "sistates_size = []\n",
    "fwd_closed = []\n",
    "\n",
    "fmt = \"{:40.40} {:>6} {:>8} {:>10}\"\n",
    "print(fmt.format(\"formula\", \"states\", \"SIstates\", \"fwd_closed\"))\n",
    "for f in formulas:\n",
    "    s = f.to_str()\n",
    "    aut = spot.translate(f)\n",
    "    aut_size.append(aut.num_states())\n",
    "    sistates = spot.stutter_invariant_states(aut, f)\n",
    "    sisz = sum(sistates)\n",
    "    sistates_size.append(sisz)\n",
    "    fc = spot.is_stutter_invariant_forward_closed(aut, sistates) == -1\n",
    "    fwd_closed.append(fc)\n",
    "    print(fmt.format(s, aut.num_states(), sisz, fc))"
   ]
  },
  {
   "cell_type": "markdown",
   "metadata": {},
   "source": [
    "There is no instance of set of stutter-invariant states that is not closed in these example formulas."
   ]
  },
  {
   "cell_type": "code",
   "execution_count": 30,
   "metadata": {},
   "outputs": [
    {
     "data": {
      "text/plain": [
       "(63, 63)"
      ]
     },
     "execution_count": 30,
     "metadata": {},
     "output_type": "execute_result"
    }
   ],
   "source": [
    "sum(fwd_closed), len(fwd_closed)"
   ]
  },
  {
   "cell_type": "markdown",
   "metadata": {},
   "source": [
    "Here is the percentage of stutter-invarant states."
   ]
  },
  {
   "cell_type": "code",
   "execution_count": 31,
   "metadata": {},
   "outputs": [
    {
     "data": {
      "text/plain": [
       "55.78947368421053"
      ]
     },
     "execution_count": 31,
     "metadata": {},
     "output_type": "execute_result"
    }
   ],
   "source": [
    "100*sum(sistates_size)/sum(aut_size)"
   ]
  }
 ],
 "metadata": {
  "kernelspec": {
   "display_name": "Python 3",
   "language": "python",
   "name": "python3"
  },
  "language_info": {
   "codemirror_mode": {
    "name": "ipython",
    "version": 3
   },
   "file_extension": ".py",
   "mimetype": "text/x-python",
   "name": "python",
   "nbconvert_exporter": "python",
   "pygments_lexer": "ipython3",
   "version": "3.8.6rc1"
  }
 },
 "nbformat": 4,
 "nbformat_minor": 2
}
